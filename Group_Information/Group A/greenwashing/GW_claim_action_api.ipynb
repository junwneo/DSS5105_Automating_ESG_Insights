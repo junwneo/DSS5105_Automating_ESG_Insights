{
 "cells": [
  {
   "cell_type": "markdown",
   "metadata": {},
   "source": [
    "## steps: \n",
    "1. get the sentence data from json\n",
    "\n",
    "2. using ESGBERT - classify in 9 categories \n",
    "\n",
    "3. Keep only Environemtal sentences for GW (climate change, waste and pollution, natural capital)\n",
    "\n",
    "4. using ESGBERT/EnvironmentalBERT-action classify sentences into **action** and non-action\n",
    "\n",
    "5. using climatebert/environmental-claims classify into **claim** and non-claim\n",
    "\n",
    "6. Get the **Net Action ratio** from action/claims \n",
    "\n",
    "7. This can be done for all reports in the dataset to determine a **benchmark**\n",
    "\n",
    "8. Compare the Net Action ratio of a test report to the benchmark to determine GW potential"
   ]
  },
  {
   "cell_type": "markdown",
   "metadata": {},
   "source": [
    "## import"
   ]
  },
  {
   "cell_type": "code",
   "execution_count": 1,
   "metadata": {},
   "outputs": [
    {
     "name": "stderr",
     "output_type": "stream",
     "text": [
      "/Users/heenalpatel/Library/Python/3.9/lib/python/site-packages/urllib3/__init__.py:35: NotOpenSSLWarning: urllib3 v2 only supports OpenSSL 1.1.1+, currently the 'ssl' module is compiled with 'LibreSSL 2.8.3'. See: https://github.com/urllib3/urllib3/issues/3020\n",
      "  warnings.warn(\n",
      "/Users/heenalpatel/Library/Python/3.9/lib/python/site-packages/tqdm/auto.py:21: TqdmWarning: IProgress not found. Please update jupyter and ipywidgets. See https://ipywidgets.readthedocs.io/en/stable/user_install.html\n",
      "  from .autonotebook import tqdm as notebook_tqdm\n"
     ]
    }
   ],
   "source": [
    "import json\n",
    "import pandas as pd\n",
    "import numpy as np\n",
    "import matplotlib.pyplot as plt\n",
    "from transformers import AutoModelForSequenceClassification, AutoTokenizer, pipeline\n",
    "from tqdm.auto import tqdm"
   ]
  },
  {
   "cell_type": "markdown",
   "metadata": {},
   "source": [
    "## get data from json"
   ]
  },
  {
   "cell_type": "code",
   "execution_count": 2,
   "metadata": {},
   "outputs": [],
   "source": [
    "def extract_sentence_lists(json_file):\n",
    "    \"\"\"\n",
    "    Extracts all sentence_lists from a JSON file and returns them as a DataFrame.\n",
    "\n",
    "    Args:\n",
    "        json_file (str): Path to the JSON file.\n",
    "\n",
    "    Returns:\n",
    "        pandas.DataFrame: DataFrame containing all sentence lists.\n",
    "    \"\"\"\n",
    "\n",
    "    with open(json_file, 'r') as f:\n",
    "        data = json.load(f)\n",
    "\n",
    "    all_sentences = []\n",
    "    for item in data:\n",
    "        if \"sentence_list\" in item:\n",
    "            all_sentences.extend(item[\"sentence_list\"])\n",
    "\n",
    "    df = pd.DataFrame(all_sentences, columns=[\"sentence\"])  # Assuming each sentence is a string\n",
    "    return df\n",
    "\n",
    "#for all reports in JSON:\n",
    "# json_file_path = \"output/pdf_data.json\" \n",
    "# df = extract_sentence_lists(json_file_path)\n",
    "# print(df)"
   ]
  },
  {
   "cell_type": "markdown",
   "metadata": {},
   "source": [
    "### get particular report"
   ]
  },
  {
   "cell_type": "code",
   "execution_count": 6,
   "metadata": {},
   "outputs": [
    {
     "data": {
      "application/vnd.microsoft.datawrangler.viewer.v0+json": {
       "columns": [
        {
         "name": "index",
         "rawType": "int64",
         "type": "integer"
        },
        {
         "name": "sentences",
         "rawType": "object",
         "type": "string"
        }
       ],
       "conversionMethod": "pd.DataFrame",
       "ref": "c91217e3-a784-4171-af86-ee9d317a7c6d",
       "rows": [
        [
         "0",
         "About this report The content and structure of this report provide stakeholders a comprehensive update highlighting NRGs dedication to people, commitment to environmental stewardship, and the governance principles that inform our work."
        ],
        [
         "1",
         "Sustainability has become increasingly integrated into the fabric of who we are as a company this report reflects its importance and impact across all parts of our business."
        ],
        [
         "2",
         "This sustainability report is aligned with our fiscal year FY and is a snapshot of the period from January 1 to December 31, 2023, unless otherwise noted in individual disclosures."
        ],
        [
         "3",
         "Featuring highlights from the reporting period as well as relevant data and disclosures, our report contains information and issues pertinent to NRG and complements our other reporting and financial filings."
        ],
        [
         "4",
         "While this reports scope is FY 2023, some longer-term projects and goals are discussed, as are certain significant current events that occurred between the end of FY 2023 and the time of publication."
        ],
        [
         "5",
         "Where applicable, sustainability-related disclosures are in line with the Sustainability Accounting Standards Board SASB, which was recently incorporated into the International Financial Reporting Standards IFRS Foundation, and the United Nations Sustainable Development Goals SDGs."
        ],
        [
         "6",
         "Additional details on NRG can be found in our Environmental, Social, and Governance ESG Data Download as well as in our reports and proxy statement on the NRG Investor Relations website."
        ],
        [
         "7",
         "The Appendix section contains our SASB table and resources with more information linked throughout the report."
        ],
        [
         "8",
         "Our strategy ensures we make responsible decisions that consider every aspect of our business."
        ],
        [
         "9",
         "In 2023, we achieved some great milestones, thanks to the steps weve taken in recent years to strengthen our business."
        ],
        [
         "10",
         "NRG made significant progress in advancing our long-term energy transition and electrification strategy."
        ],
        [
         "11",
         "We achieved a 58 reduction in GHG emissions, bettering our 2025 target, and our demand response programs effectively helped to balance market needs and reduce grid demand."
        ],
        [
         "12",
         "The NRG teams commitment to the community remained steadfast, contributing 31,000 volunteer service hours across North America."
        ],
        [
         "13",
         "The integration of NRG and Vivint has been a better together story, enriching both our offerings and our teams."
        ],
        [
         "14",
         "Reflecting our new collective identity, we introduced an updated purpose statement To power a brighter future together."
        ],
        [
         "15",
         "Our goals for the coming years are ambitious as we enter a new era of energy, driven by increasingly cleaner supply, continued electrification, and tremendous demand-side growth."
        ],
        [
         "16",
         "NRG is harnessing technology, our customer-centric approach, and incredible talent to advance our business."
        ],
        [
         "17",
         "We are not just adapting to changewe are leading it, championing an intentional energy transition that is safe, affordable, reliable, and beneficial for future generations."
        ],
        [
         "18",
         "It is your belief in our vision that inspires us to do better every day."
        ],
        [
         "19",
         "I am grateful for our employees, partners, customers, and communities dedication."
        ],
        [
         "20",
         "I feel honored to have joined a sustainability program with such a strong legacy."
        ],
        [
         "21",
         "The opportunity to now spearhead NRGs sustainability initiatives as we shape the future of energy is a privilege."
        ],
        [
         "22",
         "Today, I am proud to share with you both our progress over the past year and our vision for a more sustainable future."
        ],
        [
         "23",
         "In 2023, we achieved many milestones and expanded our portfolio to offer more sustainable alternatives for both homes and businesses."
        ],
        [
         "24",
         "Our efforts to progress our emissions targets were reflected in a 58 decrease in GHG emissions from our base year, including a 30 cut from 2022 in our Scope 1 emissions."
        ],
        [
         "25",
         "We retained our top-decile safety performance, and our commitment to our people and communities was strengthened through integration with our Vivint colleagues."
        ],
        [
         "26",
         "Throughout an atypical year for our business, we maintained shareholder engagement and strong governance principles and ensured our strategies remained aligned with stakeholder values and expectations."
        ],
        [
         "27",
         "My time in this role has deepened my commitment to advancing NRGs sustainability agenda and reinforced my belief that sustainability is not a destination, but rather a journey that requires constant adaptation, learning, and dedication."
        ],
        [
         "28",
         "I am anticipating many more opportunities to engage with customers in new ways."
        ],
        [
         "29",
         "Our whole-home experience delivers comprehensive, tech-forward energy management to our customers."
        ],
        [
         "30",
         "For our gas business, we are exploring ways to evolve our customer solutions as we continue reducing our carbon intensity."
        ],
        [
         "31",
         "The anticipated power demand increase driven by the technology sector presents both challenges and opportunities."
        ],
        [
         "32",
         "NRGs strategic shift to sit at the intersection of energy and technology marks a new chapter in our sustainability story."
        ],
        [
         "33",
         "As we navigate this next phase of NRG and the energy industry as a whole, I remain focused on maintaining our unwavering commitment to putting our customers first as we continue to elevate our sustainability approach and set a benchmark for the industry."
        ],
        [
         "34",
         "I am proud of the progress to date, which is a testament to our companys dedication and to those leaders before me who paved the way."
        ],
        [
         "35",
         "As we move forward, I will continue to collaborate closely within NRG to ensure that sustainability remains at the core of our business."
        ],
        [
         "36",
         "I am grateful for the support and engagement of our stakeholders as we pursue our sustainability goals and for the opportunity to lead as we drive tangible results through our collective efforts."
        ],
        [
         "37",
         "Together, we can create a more prosperous and sustainable future for all."
        ],
        [
         "38",
         "With our customers needs and aspirations at the forefront, we are bringing peace of mind, customization, and convenience to the home."
        ],
        [
         "39",
         "Our leading brands and customer experience as an energy provider have paved the way for trusted relationships inside the home, and today, we are much more than simply a power and natural gas retailer."
        ],
        [
         "40",
         "We are empowering consumers with a unique platform that combines innovative energy services and controls with home automation, smart devices, and protection."
        ],
        [
         "41",
         "ESSENTIALS FOR THE HOME AND BEYOND Throughout 2023, we focused on the integration of Vivint Smart Home as a catalyst in accelerating our consumer-focused growth strategy to bring customers a best-in-market home services platform fueled by unparalleled insights, proprietary technologies, and complementary sales channels."
        ],
        [
         "42",
         "NRG serves approximately eight million residential consumers in addition to commercial, industrial, and wholesale customers, supported by approximately 13 GW of energy generation capacity as of December 31, 2023."
        ],
        [
         "43",
         "NRGs retail brands collectively have the largest share of competitively-served residential electricity customers in Texas and nationwide."
        ],
        [
         "44",
         "OUR PURPOSE AND VALUES Our purpose and values inform how we move forward and achieve more for the people we serve."
        ],
        [
         "45",
         "We constantly aim higher to provide a better experience for our customers, employees, and communities."
        ],
        [
         "46",
         "This new statement reflects our growth, aspirations, and the evolving needs of our stakeholders."
        ],
        [
         "47",
         "In addition, we have established three ambitious targets for reducing NRGs environmental footprint and reporting our progress reduction in GHG emissions by 20251 50 Net-zero 100electrification of company-owned, light-duty fleet vehicles by 2030 emissions by 2050 Sustainability at NRG Sustainability is a philosophy that underpins and facilitates value creation across our business for all stakeholders."
        ],
        [
         "48",
         "It is an integral piece of our corporate strategy and ties directly to business success, reduced risk, and enhanced reputation."
        ],
        [
         "49",
         "We are committed to affecting positively the communities in which our customers and employees live and work."
        ]
       ],
       "shape": {
        "columns": 1,
        "rows": 519
       }
      },
      "text/html": [
       "<div>\n",
       "<style scoped>\n",
       "    .dataframe tbody tr th:only-of-type {\n",
       "        vertical-align: middle;\n",
       "    }\n",
       "\n",
       "    .dataframe tbody tr th {\n",
       "        vertical-align: top;\n",
       "    }\n",
       "\n",
       "    .dataframe thead th {\n",
       "        text-align: right;\n",
       "    }\n",
       "</style>\n",
       "<table border=\"1\" class=\"dataframe\">\n",
       "  <thead>\n",
       "    <tr style=\"text-align: right;\">\n",
       "      <th></th>\n",
       "      <th>sentences</th>\n",
       "    </tr>\n",
       "  </thead>\n",
       "  <tbody>\n",
       "    <tr>\n",
       "      <th>0</th>\n",
       "      <td>About this report The content and structure of...</td>\n",
       "    </tr>\n",
       "    <tr>\n",
       "      <th>1</th>\n",
       "      <td>Sustainability has become increasingly integra...</td>\n",
       "    </tr>\n",
       "    <tr>\n",
       "      <th>2</th>\n",
       "      <td>This sustainability report is aligned with our...</td>\n",
       "    </tr>\n",
       "    <tr>\n",
       "      <th>3</th>\n",
       "      <td>Featuring highlights from the reporting period...</td>\n",
       "    </tr>\n",
       "    <tr>\n",
       "      <th>4</th>\n",
       "      <td>While this reports scope is FY 2023, some long...</td>\n",
       "    </tr>\n",
       "    <tr>\n",
       "      <th>...</th>\n",
       "      <td>...</td>\n",
       "    </tr>\n",
       "    <tr>\n",
       "      <th>514</th>\n",
       "      <td>The key issues assessment provides a foundatio...</td>\n",
       "    </tr>\n",
       "    <tr>\n",
       "      <th>515</th>\n",
       "      <td>To conduct the key issues assessment, we monit...</td>\n",
       "    </tr>\n",
       "    <tr>\n",
       "      <th>516</th>\n",
       "      <td>For the purpose of this Sustainability Report,...</td>\n",
       "    </tr>\n",
       "    <tr>\n",
       "      <th>517</th>\n",
       "      <td>We use this independent analysis to better inf...</td>\n",
       "    </tr>\n",
       "    <tr>\n",
       "      <th>518</th>\n",
       "      <td>For the purposes of sustainability reporting, ...</td>\n",
       "    </tr>\n",
       "  </tbody>\n",
       "</table>\n",
       "<p>519 rows × 1 columns</p>\n",
       "</div>"
      ],
      "text/plain": [
       "                                             sentences\n",
       "0    About this report The content and structure of...\n",
       "1    Sustainability has become increasingly integra...\n",
       "2    This sustainability report is aligned with our...\n",
       "3    Featuring highlights from the reporting period...\n",
       "4    While this reports scope is FY 2023, some long...\n",
       "..                                                 ...\n",
       "514  The key issues assessment provides a foundatio...\n",
       "515  To conduct the key issues assessment, we monit...\n",
       "516  For the purpose of this Sustainability Report,...\n",
       "517  We use this independent analysis to better inf...\n",
       "518  For the purposes of sustainability reporting, ...\n",
       "\n",
       "[519 rows x 1 columns]"
      ]
     },
     "execution_count": 6,
     "metadata": {},
     "output_type": "execute_result"
    }
   ],
   "source": [
    "with open(\"output/pdf_data.json\", 'r') as f:\n",
    "    data = json.load(f)\n",
    "\n",
    "df = pd.DataFrame(data[22][\"sentence_list\"], columns=[\"sentences\"])  \n",
    "df"
   ]
  },
  {
   "cell_type": "markdown",
   "metadata": {},
   "source": [
    "## classify into 9 cat\n",
    "\n",
    "-- TO DO - w Kiana"
   ]
  },
  {
   "cell_type": "code",
   "execution_count": null,
   "metadata": {},
   "outputs": [],
   "source": []
  },
  {
   "cell_type": "markdown",
   "metadata": {},
   "source": [
    "## classify actions"
   ]
  },
  {
   "cell_type": "code",
   "execution_count": 3,
   "metadata": {},
   "outputs": [],
   "source": [
    "def classify_actions(input_df):\n",
    "    '''\n",
    "    Classifies the actions in the input DataFrame using the EnvironmentalBERT-action model.\n",
    "\n",
    "    Args:\n",
    "        input_df (pandas.DataFrame): DataFrame containing the sentences to be classified.\n",
    "\n",
    "    Returns:\n",
    "        pandas.DataFrame: DataFrame with the following columns: \n",
    "            - sentence: The original sentence.\n",
    "            - action_label: The predicted action label.\n",
    "            - action_score: The confidence score of the predicted action label.\n",
    "    '''\n",
    "    \n",
    "    tokenizer_name = \"ESGBERT/EnvironmentalBERT-action\"\n",
    "    model_name = \"ESGBERT/EnvironmentalBERT-action\"\n",
    "    model = AutoModelForSequenceClassification.from_pretrained(model_name)\n",
    "    tokenizer = AutoTokenizer.from_pretrained(tokenizer_name, max_len=512)\n",
    "    \n",
    "    pipe_action = pipeline(\"text-classification\", model=model, tokenizer=tokenizer)  # set device=0 to use GPU\n",
    "\n",
    "    out_df = input_df.copy()\n",
    "    out_df[\"action\"] = out_df[\"sentences\"].apply(lambda x: pipe_action(x, padding=True, truncation=True))\n",
    "\n",
    "    out_df[\"action_label\"] = out_df[\"action\"].apply(lambda x: x[0][\"label\"])\n",
    "    out_df[\"action_score\"] = out_df[\"action\"].apply(lambda x: x[0][\"score\"])\n",
    "    #delete the action column\n",
    "    out_df = out_df.drop(columns=[\"action\"])\n",
    "\n",
    "    return out_df\n"
   ]
  },
  {
   "cell_type": "markdown",
   "metadata": {},
   "source": [
    "## classify claims"
   ]
  },
  {
   "cell_type": "code",
   "execution_count": 4,
   "metadata": {},
   "outputs": [],
   "source": [
    "def classify_claims(input_df):\n",
    "    '''\n",
    "    Classifies the claims in the input DataFrame using the EnvironmentalBERT-claim model.\n",
    "\n",
    "    Args:\n",
    "        input_df (pandas.DataFrame): DataFrame containing the sentences to be classified.\n",
    "\n",
    "    Returns:\n",
    "        pandas.DataFrame: DataFrame with the following columns: \n",
    "            - sentence: The original sentence.\n",
    "            - claim_label: The predicted claim label.\n",
    "            - claim_score: The confidence score of the predicted claim label.\n",
    "    '''\n",
    "    model_name = \"climatebert/environmental-claims\"\n",
    "    model = AutoModelForSequenceClassification.from_pretrained(model_name)\n",
    "    tokenizer = AutoTokenizer.from_pretrained(model_name, max_len=512)\n",
    "\n",
    "    pipe_claim = pipeline(\"text-classification\", model=model, tokenizer=tokenizer, device=0)\n",
    "\n",
    "    out_df = input_df.copy()\n",
    "    out_df[\"claim\"] = out_df[\"sentences\"].apply(lambda x: pipe_claim(x, padding=True, truncation=True))\n",
    "    out_df[\"claim_label\"] = out_df[\"claim\"].apply(lambda x: x[0][\"label\"])\n",
    "    out_df[\"claim_score\"] = out_df[\"claim\"].apply(lambda x: x[0][\"score\"])\n",
    "    out_df = out_df.drop(columns=[\"claim\"])\n",
    "\n",
    "    return out_df"
   ]
  },
  {
   "cell_type": "markdown",
   "metadata": {},
   "source": [
    "## action + claim combine implementation"
   ]
  },
  {
   "cell_type": "code",
   "execution_count": 5,
   "metadata": {},
   "outputs": [],
   "source": [
    "def classify_actions_claims(input_df):\n",
    "    action_df = classify_actions(input_df)\n",
    "    action_claim_df = classify_claims(action_df)\n",
    "\n",
    "    return action_claim_df"
   ]
  },
  {
   "cell_type": "code",
   "execution_count": null,
   "metadata": {},
   "outputs": [],
   "source": [
    "action_claim_df = classify_actions_claims(df)\n",
    "action_claim_df"
   ]
  },
  {
   "cell_type": "markdown",
   "metadata": {},
   "source": [
    "## potential GW"
   ]
  },
  {
   "cell_type": "markdown",
   "metadata": {},
   "source": [
    "### net action ratio"
   ]
  },
  {
   "cell_type": "code",
   "execution_count": 7,
   "metadata": {},
   "outputs": [],
   "source": [
    "def net_action_ratio(input_df):\n",
    "    '''\n",
    "    calculates a single net action score for the input DataFrame.  \n",
    "    '''\n",
    "    claim_ratio = input_df[\"claim_label\"].value_counts(normalize=True)[\"yes\"] \n",
    "    action_ratio = input_df[\"action_label\"].value_counts(normalize=True)[\"action\"]\n",
    "    net_action_ratio = action_ratio - claim_ratio\n",
    "    return net_action_ratio"
   ]
  },
  {
   "cell_type": "code",
   "execution_count": null,
   "metadata": {},
   "outputs": [
    {
     "data": {
      "text/plain": [
       "0.4585741811175337"
      ]
     },
     "execution_count": 27,
     "metadata": {},
     "output_type": "execute_result"
    }
   ],
   "source": [
    "net_action = net_action_ratio(action_claim_df)\n",
    "net_action"
   ]
  },
  {
   "cell_type": "markdown",
   "metadata": {},
   "source": [
    "### comparing "
   ]
  },
  {
   "cell_type": "code",
   "execution_count": null,
   "metadata": {},
   "outputs": [
    {
     "name": "stderr",
     "output_type": "stream",
     "text": [
      "Device set to use mps:0\n",
      "Device set to use mps:0\n",
      "Device set to use mps:0\n",
      "Device set to use mps:0\n",
      "Device set to use mps:0\n",
      "Device set to use mps:0\n",
      "Device set to use mps:0\n",
      "Device set to use mps:0\n",
      "Device set to use mps:0\n",
      "Device set to use mps:0\n",
      "Device set to use mps:0\n",
      "Device set to use mps:0\n",
      "Device set to use mps:0\n",
      "Device set to use mps:0\n",
      "Device set to use mps:0\n",
      "Device set to use mps:0\n",
      "Device set to use mps:0\n",
      "Device set to use mps:0\n",
      "Device set to use mps:0\n",
      "Device set to use mps:0\n",
      "Device set to use mps:0\n",
      "Device set to use mps:0\n",
      "Device set to use mps:0\n",
      "Device set to use mps:0\n",
      "Device set to use mps:0\n",
      "Device set to use mps:0\n",
      "Device set to use mps:0\n",
      "Device set to use mps:0\n",
      "Device set to use mps:0\n",
      "Device set to use mps:0\n",
      "Device set to use mps:0\n",
      "Device set to use mps:0\n",
      "Device set to use mps:0\n",
      "Device set to use mps:0\n",
      "Device set to use mps:0\n",
      "Device set to use mps:0\n",
      "Device set to use mps:0\n",
      "Device set to use mps:0\n"
     ]
    }
   ],
   "source": [
    "#for all the reports in the JSON file, calculate the net action score, and store it in a json file which \n",
    "# has the same structure as the input JSON file but with an additional key-value pair for the net action score.\n",
    "\n",
    "def net_action_score(json_file):\n",
    "    with open(json_file, 'r') as f:\n",
    "        data = json.load(f)\n",
    "    for item in data:\n",
    "        df = pd.DataFrame(item[\"sentence_list\"], columns=[\"sentences\"])  \n",
    "        action_claim_df = classify_actions_claims(df)\n",
    "        na_score = net_action_ratio(action_claim_df)\n",
    "        item[\"net_action_score\"] = na_score\n",
    "    with open('GW output/pdf_data.json', 'w') as f:\n",
    "        json.dump(data, f) \n",
    "\n",
    "net_action_score(\"GW output/pdf_data.json\")"
   ]
  },
  {
   "cell_type": "code",
   "execution_count": 20,
   "metadata": {},
   "outputs": [],
   "source": [
    "#get the net action score and pdf path from the output JSON file and store it in a dataframe\n",
    "net_action_scores = []\n",
    "report = []\n",
    "with open(\"output/pdf_data.json\", 'r') as f:\n",
    "    data = json.load(f)\n",
    "    for item in data:\n",
    "        report.append(item[\"pdf_path\"])\n",
    "        net_action_scores.append(item[\"net_action_score\"])\n",
    "\n",
    "df_scores_new = pd.DataFrame({\"pdf_path\": report, \"net_action_score\": net_action_scores})"
   ]
  },
  {
   "cell_type": "code",
   "execution_count": 21,
   "metadata": {},
   "outputs": [],
   "source": [
    "#for pdf path in df_scores create a column report to extract the report name from the pdf path\n",
    "df_scores_new[\"report\"] = df_scores_new[\"pdf_path\"].apply(lambda x: x.split(\"/\")[-1].split(\".\")[0])"
   ]
  },
  {
   "cell_type": "code",
   "execution_count": 22,
   "metadata": {},
   "outputs": [
    {
     "data": {
      "application/vnd.microsoft.datawrangler.viewer.v0+json": {
       "columns": [
        {
         "name": "index",
         "rawType": "int64",
         "type": "integer"
        },
        {
         "name": "pdf_path",
         "rawType": "object",
         "type": "string"
        },
        {
         "name": "net_action_score",
         "rawType": "float64",
         "type": "float"
        },
        {
         "name": "report",
         "rawType": "object",
         "type": "string"
        }
       ],
       "conversionMethod": "pd.DataFrame",
       "ref": "9155f410-8e66-4467-97ce-95d405192d6a",
       "rows": [
        [
         "0",
         "/Users/heenalpatel/Documents/esg_nlp/gw scores for b/NFE_2022.pdf",
         "0.35319767441860467",
         "NFE_2022"
        ],
        [
         "1",
         "/Users/heenalpatel/Documents/esg_nlp/gw scores for b/LGES_2023.pdf",
         "0.4960516870064609",
         "LGES_2023"
        ],
        [
         "2",
         "/Users/heenalpatel/Documents/esg_nlp/gw scores for b/VITOL_2023.pdf",
         "0.3901869158878505",
         "VITOL_2023"
        ],
        [
         "3",
         "/Users/heenalpatel/Documents/esg_nlp/gw scores for b/Nofar_2023.pdf",
         "0.31994645247657294",
         "Nofar_2023"
        ],
        [
         "4",
         "/Users/heenalpatel/Documents/esg_nlp/gw scores for b/ENN_2023.pdf",
         "0.5",
         "ENN_2023"
        ],
        [
         "5",
         "/Users/heenalpatel/Documents/esg_nlp/gw scores for b/Gibson-2022.pdf",
         "0.39007092198581567",
         "Gibson-2022"
        ],
        [
         "6",
         "/Users/heenalpatel/Documents/esg_nlp/gw scores for b/Gren_2023.pdf",
         "0.25396825396825395",
         "Gren_2023"
        ],
        [
         "7",
         "/Users/heenalpatel/Documents/esg_nlp/gw scores for b/Chord_2023.pdf",
         "0.36518046709129515",
         "Chord_2023"
        ],
        [
         "8",
         "/Users/heenalpatel/Documents/esg_nlp/gw scores for b/Totalenergies_2024.pdf",
         "0.2932187201528176",
         "Totalenergies_2024"
        ],
        [
         "9",
         "/Users/heenalpatel/Documents/esg_nlp/gw scores for b/Constellation_2024.pdf",
         "0.4024390243902439",
         "Constellation_2024"
        ],
        [
         "10",
         "/Users/heenalpatel/Documents/esg_nlp/gw scores for b/Hitachi_2024.pdf",
         "0.3360049321824908",
         "Hitachi_2024"
        ],
        [
         "11",
         "/Users/heenalpatel/Documents/esg_nlp/gw scores for b/Cenovus_2023.pdf",
         "0.4451783355350066",
         "Cenovus_2023"
        ],
        [
         "12",
         "/Users/heenalpatel/Documents/esg_nlp/gw scores for b/Peabody_2024.pdf",
         "0.3259557344064386",
         "Peabody_2024"
        ],
        [
         "13",
         "/Users/heenalpatel/Documents/esg_nlp/gw scores for b/adani_2022-23.pdf",
         "0.3767038413878563",
         "adani_2022-23"
        ],
        [
         "14",
         "/Users/heenalpatel/Documents/esg_nlp/gw scores for b/Varo_2023.pdf",
         "0.32251908396946566",
         "Varo_2023"
        ],
        [
         "15",
         "/Users/heenalpatel/Documents/esg_nlp/gw scores for b/hbr_2022.pdf",
         "0.3424124513618677",
         "hbr_2022"
        ],
        [
         "16",
         "/Users/heenalpatel/Documents/esg_nlp/gw scores for b/NRG_2023.pdf",
         "0.4585741811175337",
         "NRG_2023"
        ],
        [
         "17",
         "/Users/heenalpatel/Documents/esg_nlp/gw scores for b/Cheniere_2023.pdf",
         "0.4295238095238095",
         "Cheniere_2023"
        ],
        [
         "18",
         "/Users/heenalpatel/Documents/esg_nlp/gw scores for b/Capitalenergy_2021.pdf",
         "0.3670150987224158",
         "Capitalenergy_2021"
        ]
       ],
       "shape": {
        "columns": 3,
        "rows": 19
       }
      },
      "text/html": [
       "<div>\n",
       "<style scoped>\n",
       "    .dataframe tbody tr th:only-of-type {\n",
       "        vertical-align: middle;\n",
       "    }\n",
       "\n",
       "    .dataframe tbody tr th {\n",
       "        vertical-align: top;\n",
       "    }\n",
       "\n",
       "    .dataframe thead th {\n",
       "        text-align: right;\n",
       "    }\n",
       "</style>\n",
       "<table border=\"1\" class=\"dataframe\">\n",
       "  <thead>\n",
       "    <tr style=\"text-align: right;\">\n",
       "      <th></th>\n",
       "      <th>pdf_path</th>\n",
       "      <th>net_action_score</th>\n",
       "      <th>report</th>\n",
       "    </tr>\n",
       "  </thead>\n",
       "  <tbody>\n",
       "    <tr>\n",
       "      <th>0</th>\n",
       "      <td>/Users/heenalpatel/Documents/esg_nlp/gw scores...</td>\n",
       "      <td>0.353198</td>\n",
       "      <td>NFE_2022</td>\n",
       "    </tr>\n",
       "    <tr>\n",
       "      <th>1</th>\n",
       "      <td>/Users/heenalpatel/Documents/esg_nlp/gw scores...</td>\n",
       "      <td>0.496052</td>\n",
       "      <td>LGES_2023</td>\n",
       "    </tr>\n",
       "    <tr>\n",
       "      <th>2</th>\n",
       "      <td>/Users/heenalpatel/Documents/esg_nlp/gw scores...</td>\n",
       "      <td>0.390187</td>\n",
       "      <td>VITOL_2023</td>\n",
       "    </tr>\n",
       "    <tr>\n",
       "      <th>3</th>\n",
       "      <td>/Users/heenalpatel/Documents/esg_nlp/gw scores...</td>\n",
       "      <td>0.319946</td>\n",
       "      <td>Nofar_2023</td>\n",
       "    </tr>\n",
       "    <tr>\n",
       "      <th>4</th>\n",
       "      <td>/Users/heenalpatel/Documents/esg_nlp/gw scores...</td>\n",
       "      <td>0.500000</td>\n",
       "      <td>ENN_2023</td>\n",
       "    </tr>\n",
       "    <tr>\n",
       "      <th>5</th>\n",
       "      <td>/Users/heenalpatel/Documents/esg_nlp/gw scores...</td>\n",
       "      <td>0.390071</td>\n",
       "      <td>Gibson-2022</td>\n",
       "    </tr>\n",
       "    <tr>\n",
       "      <th>6</th>\n",
       "      <td>/Users/heenalpatel/Documents/esg_nlp/gw scores...</td>\n",
       "      <td>0.253968</td>\n",
       "      <td>Gren_2023</td>\n",
       "    </tr>\n",
       "    <tr>\n",
       "      <th>7</th>\n",
       "      <td>/Users/heenalpatel/Documents/esg_nlp/gw scores...</td>\n",
       "      <td>0.365180</td>\n",
       "      <td>Chord_2023</td>\n",
       "    </tr>\n",
       "    <tr>\n",
       "      <th>8</th>\n",
       "      <td>/Users/heenalpatel/Documents/esg_nlp/gw scores...</td>\n",
       "      <td>0.293219</td>\n",
       "      <td>Totalenergies_2024</td>\n",
       "    </tr>\n",
       "    <tr>\n",
       "      <th>9</th>\n",
       "      <td>/Users/heenalpatel/Documents/esg_nlp/gw scores...</td>\n",
       "      <td>0.402439</td>\n",
       "      <td>Constellation_2024</td>\n",
       "    </tr>\n",
       "    <tr>\n",
       "      <th>10</th>\n",
       "      <td>/Users/heenalpatel/Documents/esg_nlp/gw scores...</td>\n",
       "      <td>0.336005</td>\n",
       "      <td>Hitachi_2024</td>\n",
       "    </tr>\n",
       "    <tr>\n",
       "      <th>11</th>\n",
       "      <td>/Users/heenalpatel/Documents/esg_nlp/gw scores...</td>\n",
       "      <td>0.445178</td>\n",
       "      <td>Cenovus_2023</td>\n",
       "    </tr>\n",
       "    <tr>\n",
       "      <th>12</th>\n",
       "      <td>/Users/heenalpatel/Documents/esg_nlp/gw scores...</td>\n",
       "      <td>0.325956</td>\n",
       "      <td>Peabody_2024</td>\n",
       "    </tr>\n",
       "    <tr>\n",
       "      <th>13</th>\n",
       "      <td>/Users/heenalpatel/Documents/esg_nlp/gw scores...</td>\n",
       "      <td>0.376704</td>\n",
       "      <td>adani_2022-23</td>\n",
       "    </tr>\n",
       "    <tr>\n",
       "      <th>14</th>\n",
       "      <td>/Users/heenalpatel/Documents/esg_nlp/gw scores...</td>\n",
       "      <td>0.322519</td>\n",
       "      <td>Varo_2023</td>\n",
       "    </tr>\n",
       "    <tr>\n",
       "      <th>15</th>\n",
       "      <td>/Users/heenalpatel/Documents/esg_nlp/gw scores...</td>\n",
       "      <td>0.342412</td>\n",
       "      <td>hbr_2022</td>\n",
       "    </tr>\n",
       "    <tr>\n",
       "      <th>16</th>\n",
       "      <td>/Users/heenalpatel/Documents/esg_nlp/gw scores...</td>\n",
       "      <td>0.458574</td>\n",
       "      <td>NRG_2023</td>\n",
       "    </tr>\n",
       "    <tr>\n",
       "      <th>17</th>\n",
       "      <td>/Users/heenalpatel/Documents/esg_nlp/gw scores...</td>\n",
       "      <td>0.429524</td>\n",
       "      <td>Cheniere_2023</td>\n",
       "    </tr>\n",
       "    <tr>\n",
       "      <th>18</th>\n",
       "      <td>/Users/heenalpatel/Documents/esg_nlp/gw scores...</td>\n",
       "      <td>0.367015</td>\n",
       "      <td>Capitalenergy_2021</td>\n",
       "    </tr>\n",
       "  </tbody>\n",
       "</table>\n",
       "</div>"
      ],
      "text/plain": [
       "                                             pdf_path  net_action_score  \\\n",
       "0   /Users/heenalpatel/Documents/esg_nlp/gw scores...          0.353198   \n",
       "1   /Users/heenalpatel/Documents/esg_nlp/gw scores...          0.496052   \n",
       "2   /Users/heenalpatel/Documents/esg_nlp/gw scores...          0.390187   \n",
       "3   /Users/heenalpatel/Documents/esg_nlp/gw scores...          0.319946   \n",
       "4   /Users/heenalpatel/Documents/esg_nlp/gw scores...          0.500000   \n",
       "5   /Users/heenalpatel/Documents/esg_nlp/gw scores...          0.390071   \n",
       "6   /Users/heenalpatel/Documents/esg_nlp/gw scores...          0.253968   \n",
       "7   /Users/heenalpatel/Documents/esg_nlp/gw scores...          0.365180   \n",
       "8   /Users/heenalpatel/Documents/esg_nlp/gw scores...          0.293219   \n",
       "9   /Users/heenalpatel/Documents/esg_nlp/gw scores...          0.402439   \n",
       "10  /Users/heenalpatel/Documents/esg_nlp/gw scores...          0.336005   \n",
       "11  /Users/heenalpatel/Documents/esg_nlp/gw scores...          0.445178   \n",
       "12  /Users/heenalpatel/Documents/esg_nlp/gw scores...          0.325956   \n",
       "13  /Users/heenalpatel/Documents/esg_nlp/gw scores...          0.376704   \n",
       "14  /Users/heenalpatel/Documents/esg_nlp/gw scores...          0.322519   \n",
       "15  /Users/heenalpatel/Documents/esg_nlp/gw scores...          0.342412   \n",
       "16  /Users/heenalpatel/Documents/esg_nlp/gw scores...          0.458574   \n",
       "17  /Users/heenalpatel/Documents/esg_nlp/gw scores...          0.429524   \n",
       "18  /Users/heenalpatel/Documents/esg_nlp/gw scores...          0.367015   \n",
       "\n",
       "                report  \n",
       "0             NFE_2022  \n",
       "1            LGES_2023  \n",
       "2           VITOL_2023  \n",
       "3           Nofar_2023  \n",
       "4             ENN_2023  \n",
       "5          Gibson-2022  \n",
       "6            Gren_2023  \n",
       "7           Chord_2023  \n",
       "8   Totalenergies_2024  \n",
       "9   Constellation_2024  \n",
       "10        Hitachi_2024  \n",
       "11        Cenovus_2023  \n",
       "12        Peabody_2024  \n",
       "13       adani_2022-23  \n",
       "14           Varo_2023  \n",
       "15            hbr_2022  \n",
       "16            NRG_2023  \n",
       "17       Cheniere_2023  \n",
       "18  Capitalenergy_2021  "
      ]
     },
     "execution_count": 22,
     "metadata": {},
     "output_type": "execute_result"
    }
   ],
   "source": [
    "df_scores_new"
   ]
  },
  {
   "cell_type": "code",
   "execution_count": 23,
   "metadata": {},
   "outputs": [
    {
     "name": "stdout",
     "output_type": "stream",
     "text": [
      "mean score:  0.37727092555709474\n",
      "median score:  0.3670150987224158\n"
     ]
    }
   ],
   "source": [
    "print(\"mean score: \", np.mean(net_action_scores))\n",
    "print(\"median score: \", np.median(net_action_scores))"
   ]
  },
  {
   "cell_type": "code",
   "execution_count": 13,
   "metadata": {},
   "outputs": [
    {
     "data": {
      "image/png": "[encoded data removed]",
      "text/plain": [
       "<Figure size 1500x1000 with 2 Axes>"
      ]
     },
     "metadata": {},
     "output_type": "display_data"
    }
   ],
   "source": [
    "#using sns plot the net action score for each report as a bar plot, along with the average net action score\n",
    "#in the side plot the box plot of the net action scores\n",
    "import seaborn as sns\n",
    "sns.set_theme(style=\"whitegrid\")\n",
    "plt.figure(figsize=(15, 10))\n",
    "\n",
    "# Bar plot for net action scores\n",
    "ax1 = plt.subplot(2, 1, 1)\n",
    "sns.barplot(x=range(len(net_action_scores)), y=net_action_scores, ax=ax1)\n",
    "ax1.axhline(np.mean(net_action_scores), color='red', linestyle='--')\n",
    "            #label='Average Net Action Score ({:.2f})'.format(np.mean(net_action_scores)))\n",
    "ax1.set_title('Net Action Score for Each Report')\n",
    "ax1.set_xlabel('Report Index')\n",
    "ax1.set_ylabel('Net Action Score')\n",
    "\n",
    "# Box plot for net action scores\n",
    "ax2 = plt.subplot(2, 1, 2)\n",
    "sns.boxplot(x=net_action_scores, ax=ax2)\n",
    "ax2.set_title('Box Plot of Net Action Scores')\n",
    "ax2.set_xlabel('Net Action Score')\n",
    "\n",
    "plt.tight_layout()\n",
    "plt.show()"
   ]
  },
  {
   "cell_type": "code",
   "execution_count": 25,
   "metadata": {},
   "outputs": [
    {
     "data": {
      "text/plain": [
       "<matplotlib.legend.Legend at 0x3341abd90>"
      ]
     },
     "execution_count": 25,
     "metadata": {},
     "output_type": "execute_result"
    },
    {
     "data": {
      "image/png": "[encoded data removed]",
      "text/plain": [
       "<Figure size 1500x1000 with 1 Axes>"
      ]
     },
     "metadata": {},
     "output_type": "display_data"
    }
   ],
   "source": [
    "#plot the net action score for each report in the dataframe df_scores_new\n",
    "plt.figure(figsize=(15, 10))\n",
    "ax = sns.barplot(x=\"report\", y=\"net_action_score\", data=df_scores_new)\n",
    "ax.axhline(np.median(net_action_scores), color='red', linestyle='--', label='Average Net Action Score ({:.2f})'.format(np.mean(net_action_scores)))\n",
    "ax.set_title('Net Action Score for Each Report')\n",
    "ax.set_xlabel('Report Name')\n",
    "ax.set_ylabel('Net Action Score')\n",
    "plt.xticks(rotation=90)\n",
    "plt.legend()"
   ]
  },
  {
   "cell_type": "code",
   "execution_count": 26,
   "metadata": {},
   "outputs": [
    {
     "name": "stdout",
     "output_type": "stream",
     "text": [
      "standard deviation:  0.06449072571869881\n"
     ]
    }
   ],
   "source": [
    "#what is the standard deviation of the net action scores\n",
    "std_dev = np.std(net_action_scores)\n",
    "print(\"standard deviation: \", std_dev)"
   ]
  },
  {
   "cell_type": "code",
   "execution_count": null,
   "metadata": {},
   "outputs": [],
   "source": [
    "#find the reports in the dataframe who are above 2 standard deviations from the mean\n",
    "#add a column greenwashing to the dataframe df_scores_new\n",
    "df_scores_new[\"greenwashing\"] = df_scores_new[\"net_action_score\"].apply(lambda x: \"yes\" if x < np.mean(net_action_scores) - std_dev else \"no\")"
   ]
  },
  {
   "cell_type": "code",
   "execution_count": 36,
   "metadata": {},
   "outputs": [
    {
     "data": {
      "application/vnd.microsoft.datawrangler.viewer.v0+json": {
       "columns": [
        {
         "name": "index",
         "rawType": "int64",
         "type": "integer"
        },
        {
         "name": "pdf_path",
         "rawType": "object",
         "type": "string"
        },
        {
         "name": "net_action_score",
         "rawType": "float64",
         "type": "float"
        },
        {
         "name": "report",
         "rawType": "object",
         "type": "string"
        },
        {
         "name": "greenwashing",
         "rawType": "object",
         "type": "string"
        }
       ],
       "conversionMethod": "pd.DataFrame",
       "ref": "5b2e4ae8-4f90-4be7-a05a-c7762889cbab",
       "rows": [
        [
         "0",
         "/Users/heenalpatel/Documents/esg_nlp/gw scores for b/NFE_2022.pdf",
         "0.35319767441860467",
         "NFE_2022",
         "no"
        ],
        [
         "1",
         "/Users/heenalpatel/Documents/esg_nlp/gw scores for b/LGES_2023.pdf",
         "0.4960516870064609",
         "LGES_2023",
         "no"
        ],
        [
         "2",
         "/Users/heenalpatel/Documents/esg_nlp/gw scores for b/VITOL_2023.pdf",
         "0.3901869158878505",
         "VITOL_2023",
         "no"
        ],
        [
         "3",
         "/Users/heenalpatel/Documents/esg_nlp/gw scores for b/Nofar_2023.pdf",
         "0.31994645247657294",
         "Nofar_2023",
         "no"
        ],
        [
         "4",
         "/Users/heenalpatel/Documents/esg_nlp/gw scores for b/ENN_2023.pdf",
         "0.5",
         "ENN_2023",
         "no"
        ],
        [
         "5",
         "/Users/heenalpatel/Documents/esg_nlp/gw scores for b/Gibson-2022.pdf",
         "0.39007092198581567",
         "Gibson-2022",
         "no"
        ],
        [
         "6",
         "/Users/heenalpatel/Documents/esg_nlp/gw scores for b/Gren_2023.pdf",
         "0.25396825396825395",
         "Gren_2023",
         "yes"
        ],
        [
         "7",
         "/Users/heenalpatel/Documents/esg_nlp/gw scores for b/Chord_2023.pdf",
         "0.36518046709129515",
         "Chord_2023",
         "no"
        ],
        [
         "8",
         "/Users/heenalpatel/Documents/esg_nlp/gw scores for b/Totalenergies_2024.pdf",
         "0.2932187201528176",
         "Totalenergies_2024",
         "yes"
        ],
        [
         "9",
         "/Users/heenalpatel/Documents/esg_nlp/gw scores for b/Constellation_2024.pdf",
         "0.4024390243902439",
         "Constellation_2024",
         "no"
        ],
        [
         "10",
         "/Users/heenalpatel/Documents/esg_nlp/gw scores for b/Hitachi_2024.pdf",
         "0.3360049321824908",
         "Hitachi_2024",
         "no"
        ],
        [
         "11",
         "/Users/heenalpatel/Documents/esg_nlp/gw scores for b/Cenovus_2023.pdf",
         "0.4451783355350066",
         "Cenovus_2023",
         "no"
        ],
        [
         "12",
         "/Users/heenalpatel/Documents/esg_nlp/gw scores for b/Peabody_2024.pdf",
         "0.3259557344064386",
         "Peabody_2024",
         "no"
        ],
        [
         "13",
         "/Users/heenalpatel/Documents/esg_nlp/gw scores for b/adani_2022-23.pdf",
         "0.3767038413878563",
         "adani_2022-23",
         "no"
        ],
        [
         "14",
         "/Users/heenalpatel/Documents/esg_nlp/gw scores for b/Varo_2023.pdf",
         "0.32251908396946566",
         "Varo_2023",
         "no"
        ],
        [
         "15",
         "/Users/heenalpatel/Documents/esg_nlp/gw scores for b/hbr_2022.pdf",
         "0.3424124513618677",
         "hbr_2022",
         "no"
        ],
        [
         "16",
         "/Users/heenalpatel/Documents/esg_nlp/gw scores for b/NRG_2023.pdf",
         "0.4585741811175337",
         "NRG_2023",
         "no"
        ],
        [
         "17",
         "/Users/heenalpatel/Documents/esg_nlp/gw scores for b/Cheniere_2023.pdf",
         "0.4295238095238095",
         "Cheniere_2023",
         "no"
        ],
        [
         "18",
         "/Users/heenalpatel/Documents/esg_nlp/gw scores for b/Capitalenergy_2021.pdf",
         "0.3670150987224158",
         "Capitalenergy_2021",
         "no"
        ]
       ],
       "shape": {
        "columns": 4,
        "rows": 19
       }
      },
      "text/html": [
       "<div>\n",
       "<style scoped>\n",
       "    .dataframe tbody tr th:only-of-type {\n",
       "        vertical-align: middle;\n",
       "    }\n",
       "\n",
       "    .dataframe tbody tr th {\n",
       "        vertical-align: top;\n",
       "    }\n",
       "\n",
       "    .dataframe thead th {\n",
       "        text-align: right;\n",
       "    }\n",
       "</style>\n",
       "<table border=\"1\" class=\"dataframe\">\n",
       "  <thead>\n",
       "    <tr style=\"text-align: right;\">\n",
       "      <th></th>\n",
       "      <th>pdf_path</th>\n",
       "      <th>net_action_score</th>\n",
       "      <th>report</th>\n",
       "      <th>greenwashing</th>\n",
       "    </tr>\n",
       "  </thead>\n",
       "  <tbody>\n",
       "    <tr>\n",
       "      <th>0</th>\n",
       "      <td>/Users/heenalpatel/Documents/esg_nlp/gw scores...</td>\n",
       "      <td>0.353198</td>\n",
       "      <td>NFE_2022</td>\n",
       "      <td>no</td>\n",
       "    </tr>\n",
       "    <tr>\n",
       "      <th>1</th>\n",
       "      <td>/Users/heenalpatel/Documents/esg_nlp/gw scores...</td>\n",
       "      <td>0.496052</td>\n",
       "      <td>LGES_2023</td>\n",
       "      <td>no</td>\n",
       "    </tr>\n",
       "    <tr>\n",
       "      <th>2</th>\n",
       "      <td>/Users/heenalpatel/Documents/esg_nlp/gw scores...</td>\n",
       "      <td>0.390187</td>\n",
       "      <td>VITOL_2023</td>\n",
       "      <td>no</td>\n",
       "    </tr>\n",
       "    <tr>\n",
       "      <th>3</th>\n",
       "      <td>/Users/heenalpatel/Documents/esg_nlp/gw scores...</td>\n",
       "      <td>0.319946</td>\n",
       "      <td>Nofar_2023</td>\n",
       "      <td>no</td>\n",
       "    </tr>\n",
       "    <tr>\n",
       "      <th>4</th>\n",
       "      <td>/Users/heenalpatel/Documents/esg_nlp/gw scores...</td>\n",
       "      <td>0.500000</td>\n",
       "      <td>ENN_2023</td>\n",
       "      <td>no</td>\n",
       "    </tr>\n",
       "    <tr>\n",
       "      <th>5</th>\n",
       "      <td>/Users/heenalpatel/Documents/esg_nlp/gw scores...</td>\n",
       "      <td>0.390071</td>\n",
       "      <td>Gibson-2022</td>\n",
       "      <td>no</td>\n",
       "    </tr>\n",
       "    <tr>\n",
       "      <th>6</th>\n",
       "      <td>/Users/heenalpatel/Documents/esg_nlp/gw scores...</td>\n",
       "      <td>0.253968</td>\n",
       "      <td>Gren_2023</td>\n",
       "      <td>yes</td>\n",
       "    </tr>\n",
       "    <tr>\n",
       "      <th>7</th>\n",
       "      <td>/Users/heenalpatel/Documents/esg_nlp/gw scores...</td>\n",
       "      <td>0.365180</td>\n",
       "      <td>Chord_2023</td>\n",
       "      <td>no</td>\n",
       "    </tr>\n",
       "    <tr>\n",
       "      <th>8</th>\n",
       "      <td>/Users/heenalpatel/Documents/esg_nlp/gw scores...</td>\n",
       "      <td>0.293219</td>\n",
       "      <td>Totalenergies_2024</td>\n",
       "      <td>yes</td>\n",
       "    </tr>\n",
       "    <tr>\n",
       "      <th>9</th>\n",
       "      <td>/Users/heenalpatel/Documents/esg_nlp/gw scores...</td>\n",
       "      <td>0.402439</td>\n",
       "      <td>Constellation_2024</td>\n",
       "      <td>no</td>\n",
       "    </tr>\n",
       "    <tr>\n",
       "      <th>10</th>\n",
       "      <td>/Users/heenalpatel/Documents/esg_nlp/gw scores...</td>\n",
       "      <td>0.336005</td>\n",
       "      <td>Hitachi_2024</td>\n",
       "      <td>no</td>\n",
       "    </tr>\n",
       "    <tr>\n",
       "      <th>11</th>\n",
       "      <td>/Users/heenalpatel/Documents/esg_nlp/gw scores...</td>\n",
       "      <td>0.445178</td>\n",
       "      <td>Cenovus_2023</td>\n",
       "      <td>no</td>\n",
       "    </tr>\n",
       "    <tr>\n",
       "      <th>12</th>\n",
       "      <td>/Users/heenalpatel/Documents/esg_nlp/gw scores...</td>\n",
       "      <td>0.325956</td>\n",
       "      <td>Peabody_2024</td>\n",
       "      <td>no</td>\n",
       "    </tr>\n",
       "    <tr>\n",
       "      <th>13</th>\n",
       "      <td>/Users/heenalpatel/Documents/esg_nlp/gw scores...</td>\n",
       "      <td>0.376704</td>\n",
       "      <td>adani_2022-23</td>\n",
       "      <td>no</td>\n",
       "    </tr>\n",
       "    <tr>\n",
       "      <th>14</th>\n",
       "      <td>/Users/heenalpatel/Documents/esg_nlp/gw scores...</td>\n",
       "      <td>0.322519</td>\n",
       "      <td>Varo_2023</td>\n",
       "      <td>no</td>\n",
       "    </tr>\n",
       "    <tr>\n",
       "      <th>15</th>\n",
       "      <td>/Users/heenalpatel/Documents/esg_nlp/gw scores...</td>\n",
       "      <td>0.342412</td>\n",
       "      <td>hbr_2022</td>\n",
       "      <td>no</td>\n",
       "    </tr>\n",
       "    <tr>\n",
       "      <th>16</th>\n",
       "      <td>/Users/heenalpatel/Documents/esg_nlp/gw scores...</td>\n",
       "      <td>0.458574</td>\n",
       "      <td>NRG_2023</td>\n",
       "      <td>no</td>\n",
       "    </tr>\n",
       "    <tr>\n",
       "      <th>17</th>\n",
       "      <td>/Users/heenalpatel/Documents/esg_nlp/gw scores...</td>\n",
       "      <td>0.429524</td>\n",
       "      <td>Cheniere_2023</td>\n",
       "      <td>no</td>\n",
       "    </tr>\n",
       "    <tr>\n",
       "      <th>18</th>\n",
       "      <td>/Users/heenalpatel/Documents/esg_nlp/gw scores...</td>\n",
       "      <td>0.367015</td>\n",
       "      <td>Capitalenergy_2021</td>\n",
       "      <td>no</td>\n",
       "    </tr>\n",
       "  </tbody>\n",
       "</table>\n",
       "</div>"
      ],
      "text/plain": [
       "                                             pdf_path  net_action_score  \\\n",
       "0   /Users/heenalpatel/Documents/esg_nlp/gw scores...          0.353198   \n",
       "1   /Users/heenalpatel/Documents/esg_nlp/gw scores...          0.496052   \n",
       "2   /Users/heenalpatel/Documents/esg_nlp/gw scores...          0.390187   \n",
       "3   /Users/heenalpatel/Documents/esg_nlp/gw scores...          0.319946   \n",
       "4   /Users/heenalpatel/Documents/esg_nlp/gw scores...          0.500000   \n",
       "5   /Users/heenalpatel/Documents/esg_nlp/gw scores...          0.390071   \n",
       "6   /Users/heenalpatel/Documents/esg_nlp/gw scores...          0.253968   \n",
       "7   /Users/heenalpatel/Documents/esg_nlp/gw scores...          0.365180   \n",
       "8   /Users/heenalpatel/Documents/esg_nlp/gw scores...          0.293219   \n",
       "9   /Users/heenalpatel/Documents/esg_nlp/gw scores...          0.402439   \n",
       "10  /Users/heenalpatel/Documents/esg_nlp/gw scores...          0.336005   \n",
       "11  /Users/heenalpatel/Documents/esg_nlp/gw scores...          0.445178   \n",
       "12  /Users/heenalpatel/Documents/esg_nlp/gw scores...          0.325956   \n",
       "13  /Users/heenalpatel/Documents/esg_nlp/gw scores...          0.376704   \n",
       "14  /Users/heenalpatel/Documents/esg_nlp/gw scores...          0.322519   \n",
       "15  /Users/heenalpatel/Documents/esg_nlp/gw scores...          0.342412   \n",
       "16  /Users/heenalpatel/Documents/esg_nlp/gw scores...          0.458574   \n",
       "17  /Users/heenalpatel/Documents/esg_nlp/gw scores...          0.429524   \n",
       "18  /Users/heenalpatel/Documents/esg_nlp/gw scores...          0.367015   \n",
       "\n",
       "                report greenwashing  \n",
       "0             NFE_2022           no  \n",
       "1            LGES_2023           no  \n",
       "2           VITOL_2023           no  \n",
       "3           Nofar_2023           no  \n",
       "4             ENN_2023           no  \n",
       "5          Gibson-2022           no  \n",
       "6            Gren_2023          yes  \n",
       "7           Chord_2023           no  \n",
       "8   Totalenergies_2024          yes  \n",
       "9   Constellation_2024           no  \n",
       "10        Hitachi_2024           no  \n",
       "11        Cenovus_2023           no  \n",
       "12        Peabody_2024           no  \n",
       "13       adani_2022-23           no  \n",
       "14           Varo_2023           no  \n",
       "15            hbr_2022           no  \n",
       "16            NRG_2023           no  \n",
       "17       Cheniere_2023           no  \n",
       "18  Capitalenergy_2021           no  "
      ]
     },
     "execution_count": 36,
     "metadata": {},
     "output_type": "execute_result"
    }
   ],
   "source": [
    "df_scores_new"
   ]
  },
  {
   "cell_type": "code",
   "execution_count": 44,
   "metadata": {},
   "outputs": [
    {
     "data": {
      "application/vnd.microsoft.datawrangler.viewer.v0+json": {
       "columns": [
        {
         "name": "index",
         "rawType": "int64",
         "type": "integer"
        },
        {
         "name": "report",
         "rawType": "object",
         "type": "string"
        },
        {
         "name": "net_action_score",
         "rawType": "float64",
         "type": "float"
        },
        {
         "name": "greenwashing",
         "rawType": "object",
         "type": "string"
        }
       ],
       "conversionMethod": "pd.DataFrame",
       "ref": "5f263a1e-1e35-4327-867a-e311f0583e07",
       "rows": [
        [
         "0",
         "NFE_2022",
         "0.35319767441860467",
         "no"
        ],
        [
         "1",
         "LGES_2023",
         "0.4960516870064609",
         "no"
        ],
        [
         "2",
         "VITOL_2023",
         "0.3901869158878505",
         "no"
        ],
        [
         "3",
         "Nofar_2023",
         "0.31994645247657294",
         "no"
        ],
        [
         "4",
         "ENN_2023",
         "0.5",
         "no"
        ],
        [
         "5",
         "Gibson-2022",
         "0.39007092198581567",
         "no"
        ],
        [
         "6",
         "Gren_2023",
         "0.25396825396825395",
         "yes"
        ],
        [
         "7",
         "Chord_2023",
         "0.36518046709129515",
         "no"
        ],
        [
         "8",
         "Totalenergies_2024",
         "0.2932187201528176",
         "yes"
        ],
        [
         "9",
         "Constellation_2024",
         "0.4024390243902439",
         "no"
        ],
        [
         "10",
         "Hitachi_2024",
         "0.3360049321824908",
         "no"
        ],
        [
         "11",
         "Cenovus_2023",
         "0.4451783355350066",
         "no"
        ],
        [
         "12",
         "Peabody_2024",
         "0.3259557344064386",
         "no"
        ],
        [
         "13",
         "adani_2022-23",
         "0.3767038413878563",
         "no"
        ],
        [
         "14",
         "Varo_2023",
         "0.32251908396946566",
         "no"
        ],
        [
         "15",
         "hbr_2022",
         "0.3424124513618677",
         "no"
        ],
        [
         "16",
         "NRG_2023",
         "0.4585741811175337",
         "no"
        ],
        [
         "17",
         "Cheniere_2023",
         "0.4295238095238095",
         "no"
        ],
        [
         "18",
         "Capitalenergy_2021",
         "0.3670150987224158",
         "no"
        ]
       ],
       "shape": {
        "columns": 3,
        "rows": 19
       }
      },
      "text/html": [
       "<div>\n",
       "<style scoped>\n",
       "    .dataframe tbody tr th:only-of-type {\n",
       "        vertical-align: middle;\n",
       "    }\n",
       "\n",
       "    .dataframe tbody tr th {\n",
       "        vertical-align: top;\n",
       "    }\n",
       "\n",
       "    .dataframe thead th {\n",
       "        text-align: right;\n",
       "    }\n",
       "</style>\n",
       "<table border=\"1\" class=\"dataframe\">\n",
       "  <thead>\n",
       "    <tr style=\"text-align: right;\">\n",
       "      <th></th>\n",
       "      <th>report</th>\n",
       "      <th>net_action_score</th>\n",
       "      <th>greenwashing</th>\n",
       "    </tr>\n",
       "  </thead>\n",
       "  <tbody>\n",
       "    <tr>\n",
       "      <th>0</th>\n",
       "      <td>NFE_2022</td>\n",
       "      <td>0.353198</td>\n",
       "      <td>no</td>\n",
       "    </tr>\n",
       "    <tr>\n",
       "      <th>1</th>\n",
       "      <td>LGES_2023</td>\n",
       "      <td>0.496052</td>\n",
       "      <td>no</td>\n",
       "    </tr>\n",
       "    <tr>\n",
       "      <th>2</th>\n",
       "      <td>VITOL_2023</td>\n",
       "      <td>0.390187</td>\n",
       "      <td>no</td>\n",
       "    </tr>\n",
       "    <tr>\n",
       "      <th>3</th>\n",
       "      <td>Nofar_2023</td>\n",
       "      <td>0.319946</td>\n",
       "      <td>no</td>\n",
       "    </tr>\n",
       "    <tr>\n",
       "      <th>4</th>\n",
       "      <td>ENN_2023</td>\n",
       "      <td>0.500000</td>\n",
       "      <td>no</td>\n",
       "    </tr>\n",
       "    <tr>\n",
       "      <th>5</th>\n",
       "      <td>Gibson-2022</td>\n",
       "      <td>0.390071</td>\n",
       "      <td>no</td>\n",
       "    </tr>\n",
       "    <tr>\n",
       "      <th>6</th>\n",
       "      <td>Gren_2023</td>\n",
       "      <td>0.253968</td>\n",
       "      <td>yes</td>\n",
       "    </tr>\n",
       "    <tr>\n",
       "      <th>7</th>\n",
       "      <td>Chord_2023</td>\n",
       "      <td>0.365180</td>\n",
       "      <td>no</td>\n",
       "    </tr>\n",
       "    <tr>\n",
       "      <th>8</th>\n",
       "      <td>Totalenergies_2024</td>\n",
       "      <td>0.293219</td>\n",
       "      <td>yes</td>\n",
       "    </tr>\n",
       "    <tr>\n",
       "      <th>9</th>\n",
       "      <td>Constellation_2024</td>\n",
       "      <td>0.402439</td>\n",
       "      <td>no</td>\n",
       "    </tr>\n",
       "    <tr>\n",
       "      <th>10</th>\n",
       "      <td>Hitachi_2024</td>\n",
       "      <td>0.336005</td>\n",
       "      <td>no</td>\n",
       "    </tr>\n",
       "    <tr>\n",
       "      <th>11</th>\n",
       "      <td>Cenovus_2023</td>\n",
       "      <td>0.445178</td>\n",
       "      <td>no</td>\n",
       "    </tr>\n",
       "    <tr>\n",
       "      <th>12</th>\n",
       "      <td>Peabody_2024</td>\n",
       "      <td>0.325956</td>\n",
       "      <td>no</td>\n",
       "    </tr>\n",
       "    <tr>\n",
       "      <th>13</th>\n",
       "      <td>adani_2022-23</td>\n",
       "      <td>0.376704</td>\n",
       "      <td>no</td>\n",
       "    </tr>\n",
       "    <tr>\n",
       "      <th>14</th>\n",
       "      <td>Varo_2023</td>\n",
       "      <td>0.322519</td>\n",
       "      <td>no</td>\n",
       "    </tr>\n",
       "    <tr>\n",
       "      <th>15</th>\n",
       "      <td>hbr_2022</td>\n",
       "      <td>0.342412</td>\n",
       "      <td>no</td>\n",
       "    </tr>\n",
       "    <tr>\n",
       "      <th>16</th>\n",
       "      <td>NRG_2023</td>\n",
       "      <td>0.458574</td>\n",
       "      <td>no</td>\n",
       "    </tr>\n",
       "    <tr>\n",
       "      <th>17</th>\n",
       "      <td>Cheniere_2023</td>\n",
       "      <td>0.429524</td>\n",
       "      <td>no</td>\n",
       "    </tr>\n",
       "    <tr>\n",
       "      <th>18</th>\n",
       "      <td>Capitalenergy_2021</td>\n",
       "      <td>0.367015</td>\n",
       "      <td>no</td>\n",
       "    </tr>\n",
       "  </tbody>\n",
       "</table>\n",
       "</div>"
      ],
      "text/plain": [
       "                report  net_action_score greenwashing\n",
       "0             NFE_2022          0.353198           no\n",
       "1            LGES_2023          0.496052           no\n",
       "2           VITOL_2023          0.390187           no\n",
       "3           Nofar_2023          0.319946           no\n",
       "4             ENN_2023          0.500000           no\n",
       "5          Gibson-2022          0.390071           no\n",
       "6            Gren_2023          0.253968          yes\n",
       "7           Chord_2023          0.365180           no\n",
       "8   Totalenergies_2024          0.293219          yes\n",
       "9   Constellation_2024          0.402439           no\n",
       "10        Hitachi_2024          0.336005           no\n",
       "11        Cenovus_2023          0.445178           no\n",
       "12        Peabody_2024          0.325956           no\n",
       "13       adani_2022-23          0.376704           no\n",
       "14           Varo_2023          0.322519           no\n",
       "15            hbr_2022          0.342412           no\n",
       "16            NRG_2023          0.458574           no\n",
       "17       Cheniere_2023          0.429524           no\n",
       "18  Capitalenergy_2021          0.367015           no"
      ]
     },
     "execution_count": 44,
     "metadata": {},
     "output_type": "execute_result"
    }
   ],
   "source": [
    "df_scores = df_scores_new[[\"report\", \"net_action_score\", \"greenwashing\"]]\n",
    "df_scores"
   ]
  },
  {
   "cell_type": "code",
   "execution_count": 41,
   "metadata": {},
   "outputs": [
    {
     "name": "stderr",
     "output_type": "stream",
     "text": [
      "/var/folders/qg/9zy2dl9s4vz2qxjxh5xtzwm80000gn/T/ipykernel_22191/2009005057.py:1: SettingWithCopyWarning: \n",
      "A value is trying to be set on a copy of a slice from a DataFrame\n",
      "\n",
      "See the caveats in the documentation: https://pandas.pydata.org/pandas-docs/stable/user_guide/indexing.html#returning-a-view-versus-a-copy\n",
      "  df_scores.rename(columns={\"net_action_score\": \"score\"}, inplace=True)\n"
     ]
    },
    {
     "data": {
      "application/vnd.microsoft.datawrangler.viewer.v0+json": {
       "columns": [
        {
         "name": "index",
         "rawType": "int64",
         "type": "integer"
        },
        {
         "name": "report",
         "rawType": "object",
         "type": "string"
        },
        {
         "name": "score",
         "rawType": "float64",
         "type": "float"
        },
        {
         "name": "greenwashing",
         "rawType": "object",
         "type": "string"
        }
       ],
       "conversionMethod": "pd.DataFrame",
       "ref": "a9489637-0ac2-487b-91cc-ab3a56abf323",
       "rows": [
        [
         "0",
         "NFE_2022",
         "0.35319767441860467",
         "no"
        ],
        [
         "1",
         "LGES_2023",
         "0.4960516870064609",
         "no"
        ],
        [
         "2",
         "VITOL_2023",
         "0.3901869158878505",
         "no"
        ],
        [
         "3",
         "Nofar_2023",
         "0.31994645247657294",
         "no"
        ],
        [
         "4",
         "ENN_2023",
         "0.5",
         "no"
        ],
        [
         "5",
         "Gibson-2022",
         "0.39007092198581567",
         "no"
        ],
        [
         "6",
         "Gren_2023",
         "0.25396825396825395",
         "yes"
        ],
        [
         "7",
         "Chord_2023",
         "0.36518046709129515",
         "no"
        ],
        [
         "8",
         "Totalenergies_2024",
         "0.2932187201528176",
         "yes"
        ],
        [
         "9",
         "Constellation_2024",
         "0.4024390243902439",
         "no"
        ],
        [
         "10",
         "Hitachi_2024",
         "0.3360049321824908",
         "no"
        ],
        [
         "11",
         "Cenovus_2023",
         "0.4451783355350066",
         "no"
        ],
        [
         "12",
         "Peabody_2024",
         "0.3259557344064386",
         "no"
        ],
        [
         "13",
         "adani_2022-23",
         "0.3767038413878563",
         "no"
        ],
        [
         "14",
         "Varo_2023",
         "0.32251908396946566",
         "no"
        ],
        [
         "15",
         "hbr_2022",
         "0.3424124513618677",
         "no"
        ],
        [
         "16",
         "NRG_2023",
         "0.4585741811175337",
         "no"
        ],
        [
         "17",
         "Cheniere_2023",
         "0.4295238095238095",
         "no"
        ],
        [
         "18",
         "Capitalenergy_2021",
         "0.3670150987224158",
         "no"
        ]
       ],
       "shape": {
        "columns": 3,
        "rows": 19
       }
      },
      "text/html": [
       "<div>\n",
       "<style scoped>\n",
       "    .dataframe tbody tr th:only-of-type {\n",
       "        vertical-align: middle;\n",
       "    }\n",
       "\n",
       "    .dataframe tbody tr th {\n",
       "        vertical-align: top;\n",
       "    }\n",
       "\n",
       "    .dataframe thead th {\n",
       "        text-align: right;\n",
       "    }\n",
       "</style>\n",
       "<table border=\"1\" class=\"dataframe\">\n",
       "  <thead>\n",
       "    <tr style=\"text-align: right;\">\n",
       "      <th></th>\n",
       "      <th>report</th>\n",
       "      <th>score</th>\n",
       "      <th>greenwashing</th>\n",
       "    </tr>\n",
       "  </thead>\n",
       "  <tbody>\n",
       "    <tr>\n",
       "      <th>0</th>\n",
       "      <td>NFE_2022</td>\n",
       "      <td>0.353198</td>\n",
       "      <td>no</td>\n",
       "    </tr>\n",
       "    <tr>\n",
       "      <th>1</th>\n",
       "      <td>LGES_2023</td>\n",
       "      <td>0.496052</td>\n",
       "      <td>no</td>\n",
       "    </tr>\n",
       "    <tr>\n",
       "      <th>2</th>\n",
       "      <td>VITOL_2023</td>\n",
       "      <td>0.390187</td>\n",
       "      <td>no</td>\n",
       "    </tr>\n",
       "    <tr>\n",
       "      <th>3</th>\n",
       "      <td>Nofar_2023</td>\n",
       "      <td>0.319946</td>\n",
       "      <td>no</td>\n",
       "    </tr>\n",
       "    <tr>\n",
       "      <th>4</th>\n",
       "      <td>ENN_2023</td>\n",
       "      <td>0.500000</td>\n",
       "      <td>no</td>\n",
       "    </tr>\n",
       "    <tr>\n",
       "      <th>5</th>\n",
       "      <td>Gibson-2022</td>\n",
       "      <td>0.390071</td>\n",
       "      <td>no</td>\n",
       "    </tr>\n",
       "    <tr>\n",
       "      <th>6</th>\n",
       "      <td>Gren_2023</td>\n",
       "      <td>0.253968</td>\n",
       "      <td>yes</td>\n",
       "    </tr>\n",
       "    <tr>\n",
       "      <th>7</th>\n",
       "      <td>Chord_2023</td>\n",
       "      <td>0.365180</td>\n",
       "      <td>no</td>\n",
       "    </tr>\n",
       "    <tr>\n",
       "      <th>8</th>\n",
       "      <td>Totalenergies_2024</td>\n",
       "      <td>0.293219</td>\n",
       "      <td>yes</td>\n",
       "    </tr>\n",
       "    <tr>\n",
       "      <th>9</th>\n",
       "      <td>Constellation_2024</td>\n",
       "      <td>0.402439</td>\n",
       "      <td>no</td>\n",
       "    </tr>\n",
       "    <tr>\n",
       "      <th>10</th>\n",
       "      <td>Hitachi_2024</td>\n",
       "      <td>0.336005</td>\n",
       "      <td>no</td>\n",
       "    </tr>\n",
       "    <tr>\n",
       "      <th>11</th>\n",
       "      <td>Cenovus_2023</td>\n",
       "      <td>0.445178</td>\n",
       "      <td>no</td>\n",
       "    </tr>\n",
       "    <tr>\n",
       "      <th>12</th>\n",
       "      <td>Peabody_2024</td>\n",
       "      <td>0.325956</td>\n",
       "      <td>no</td>\n",
       "    </tr>\n",
       "    <tr>\n",
       "      <th>13</th>\n",
       "      <td>adani_2022-23</td>\n",
       "      <td>0.376704</td>\n",
       "      <td>no</td>\n",
       "    </tr>\n",
       "    <tr>\n",
       "      <th>14</th>\n",
       "      <td>Varo_2023</td>\n",
       "      <td>0.322519</td>\n",
       "      <td>no</td>\n",
       "    </tr>\n",
       "    <tr>\n",
       "      <th>15</th>\n",
       "      <td>hbr_2022</td>\n",
       "      <td>0.342412</td>\n",
       "      <td>no</td>\n",
       "    </tr>\n",
       "    <tr>\n",
       "      <th>16</th>\n",
       "      <td>NRG_2023</td>\n",
       "      <td>0.458574</td>\n",
       "      <td>no</td>\n",
       "    </tr>\n",
       "    <tr>\n",
       "      <th>17</th>\n",
       "      <td>Cheniere_2023</td>\n",
       "      <td>0.429524</td>\n",
       "      <td>no</td>\n",
       "    </tr>\n",
       "    <tr>\n",
       "      <th>18</th>\n",
       "      <td>Capitalenergy_2021</td>\n",
       "      <td>0.367015</td>\n",
       "      <td>no</td>\n",
       "    </tr>\n",
       "  </tbody>\n",
       "</table>\n",
       "</div>"
      ],
      "text/plain": [
       "                report     score greenwashing\n",
       "0             NFE_2022  0.353198           no\n",
       "1            LGES_2023  0.496052           no\n",
       "2           VITOL_2023  0.390187           no\n",
       "3           Nofar_2023  0.319946           no\n",
       "4             ENN_2023  0.500000           no\n",
       "5          Gibson-2022  0.390071           no\n",
       "6            Gren_2023  0.253968          yes\n",
       "7           Chord_2023  0.365180           no\n",
       "8   Totalenergies_2024  0.293219          yes\n",
       "9   Constellation_2024  0.402439           no\n",
       "10        Hitachi_2024  0.336005           no\n",
       "11        Cenovus_2023  0.445178           no\n",
       "12        Peabody_2024  0.325956           no\n",
       "13       adani_2022-23  0.376704           no\n",
       "14           Varo_2023  0.322519           no\n",
       "15            hbr_2022  0.342412           no\n",
       "16            NRG_2023  0.458574           no\n",
       "17       Cheniere_2023  0.429524           no\n",
       "18  Capitalenergy_2021  0.367015           no"
      ]
     },
     "execution_count": 41,
     "metadata": {},
     "output_type": "execute_result"
    }
   ],
   "source": [
    "df_scores.rename(columns={\"net_action_score\": \"score\"}, inplace=True)\n",
    "df_scores"
   ]
  },
  {
   "cell_type": "code",
   "execution_count": 45,
   "metadata": {},
   "outputs": [],
   "source": [
    "# #save the dataframe df_scores_new to a csv file\n",
    "df_scores.to_csv(\"GW output/greenwashing_reports.csv\", index=False)"
   ]
  },
  {
   "cell_type": "code",
   "execution_count": 48,
   "metadata": {},
   "outputs": [
    {
     "name": "stdout",
     "output_type": "stream",
     "text": [
      "../data/2024-gore-street-energy-storage-fund-esg-and-sustainability-report.pdf 0.3134328358208955\n",
      "../data/betterenergy_2021.pdf 0.2725903614457831\n",
      "../SR/Totalenergies_2024.pdf 0.2932187201528176\n",
      "../SR/NRG_2021.pdf 0.33918128654970764\n"
     ]
    }
   ],
   "source": [
    "#find the reports with low net action scores\n",
    "with open(\"output/pdf_data.json\", 'r') as f:\n",
    "    data = json.load(f)\n",
    "    for item in data:\n",
    "        if item[\"net_action_score\"] < 0.35:\n",
    "            print(item[\"pdf_path\"], item[\"net_action_score\"])"
   ]
  },
  {
   "cell_type": "markdown",
   "metadata": {},
   "source": [
    "## new report (user input)\n",
    "\n",
    "- if the score is lower than mean 0.3 (?) then maybe GW"
   ]
  },
  {
   "cell_type": "code",
   "execution_count": 2,
   "metadata": {},
   "outputs": [
    {
     "data": {
      "application/vnd.microsoft.datawrangler.viewer.v0+json": {
       "columns": [
        {
         "name": "index",
         "rawType": "int64",
         "type": "integer"
        },
        {
         "name": "report",
         "rawType": "object",
         "type": "string"
        },
        {
         "name": "net_action_score",
         "rawType": "float64",
         "type": "float"
        },
        {
         "name": "greenwashing",
         "rawType": "object",
         "type": "string"
        }
       ],
       "conversionMethod": "pd.DataFrame",
       "ref": "e75a18a5-dc8f-4472-b9bd-4288e224733a",
       "rows": [
        [
         "0",
         "NFE_2022",
         "0.3531976744186046",
         "no"
        ],
        [
         "1",
         "LGES_2023",
         "0.4960516870064609",
         "no"
        ],
        [
         "2",
         "VITOL_2023",
         "0.3901869158878505",
         "no"
        ],
        [
         "3",
         "Nofar_2023",
         "0.3199464524765729",
         "no"
        ],
        [
         "4",
         "ENN_2023",
         "0.5",
         "no"
        ],
        [
         "5",
         "Gibson-2022",
         "0.3900709219858156",
         "no"
        ],
        [
         "6",
         "Gren_2023",
         "0.2539682539682539",
         "yes"
        ],
        [
         "7",
         "Chord_2023",
         "0.3651804670912951",
         "no"
        ],
        [
         "8",
         "Totalenergies_2024",
         "0.2932187201528176",
         "yes"
        ],
        [
         "9",
         "Constellation_2024",
         "0.4024390243902439",
         "no"
        ],
        [
         "10",
         "Hitachi_2024",
         "0.3360049321824908",
         "no"
        ],
        [
         "11",
         "Cenovus_2023",
         "0.4451783355350066",
         "no"
        ],
        [
         "12",
         "Peabody_2024",
         "0.3259557344064386",
         "no"
        ],
        [
         "13",
         "adani_2022-23",
         "0.3767038413878563",
         "no"
        ],
        [
         "14",
         "Varo_2023",
         "0.3225190839694656",
         "no"
        ],
        [
         "15",
         "hbr_2022",
         "0.3424124513618677",
         "no"
        ],
        [
         "16",
         "NRG_2023",
         "0.4585741811175337",
         "no"
        ],
        [
         "17",
         "Cheniere_2023",
         "0.4295238095238095",
         "no"
        ],
        [
         "18",
         "Capitalenergy_2021",
         "0.3670150987224158",
         "no"
        ]
       ],
       "shape": {
        "columns": 3,
        "rows": 19
       }
      },
      "text/html": [
       "<div>\n",
       "<style scoped>\n",
       "    .dataframe tbody tr th:only-of-type {\n",
       "        vertical-align: middle;\n",
       "    }\n",
       "\n",
       "    .dataframe tbody tr th {\n",
       "        vertical-align: top;\n",
       "    }\n",
       "\n",
       "    .dataframe thead th {\n",
       "        text-align: right;\n",
       "    }\n",
       "</style>\n",
       "<table border=\"1\" class=\"dataframe\">\n",
       "  <thead>\n",
       "    <tr style=\"text-align: right;\">\n",
       "      <th></th>\n",
       "      <th>report</th>\n",
       "      <th>net_action_score</th>\n",
       "      <th>greenwashing</th>\n",
       "    </tr>\n",
       "  </thead>\n",
       "  <tbody>\n",
       "    <tr>\n",
       "      <th>0</th>\n",
       "      <td>NFE_2022</td>\n",
       "      <td>0.353198</td>\n",
       "      <td>no</td>\n",
       "    </tr>\n",
       "    <tr>\n",
       "      <th>1</th>\n",
       "      <td>LGES_2023</td>\n",
       "      <td>0.496052</td>\n",
       "      <td>no</td>\n",
       "    </tr>\n",
       "    <tr>\n",
       "      <th>2</th>\n",
       "      <td>VITOL_2023</td>\n",
       "      <td>0.390187</td>\n",
       "      <td>no</td>\n",
       "    </tr>\n",
       "    <tr>\n",
       "      <th>3</th>\n",
       "      <td>Nofar_2023</td>\n",
       "      <td>0.319946</td>\n",
       "      <td>no</td>\n",
       "    </tr>\n",
       "    <tr>\n",
       "      <th>4</th>\n",
       "      <td>ENN_2023</td>\n",
       "      <td>0.500000</td>\n",
       "      <td>no</td>\n",
       "    </tr>\n",
       "    <tr>\n",
       "      <th>5</th>\n",
       "      <td>Gibson-2022</td>\n",
       "      <td>0.390071</td>\n",
       "      <td>no</td>\n",
       "    </tr>\n",
       "    <tr>\n",
       "      <th>6</th>\n",
       "      <td>Gren_2023</td>\n",
       "      <td>0.253968</td>\n",
       "      <td>yes</td>\n",
       "    </tr>\n",
       "    <tr>\n",
       "      <th>7</th>\n",
       "      <td>Chord_2023</td>\n",
       "      <td>0.365180</td>\n",
       "      <td>no</td>\n",
       "    </tr>\n",
       "    <tr>\n",
       "      <th>8</th>\n",
       "      <td>Totalenergies_2024</td>\n",
       "      <td>0.293219</td>\n",
       "      <td>yes</td>\n",
       "    </tr>\n",
       "    <tr>\n",
       "      <th>9</th>\n",
       "      <td>Constellation_2024</td>\n",
       "      <td>0.402439</td>\n",
       "      <td>no</td>\n",
       "    </tr>\n",
       "    <tr>\n",
       "      <th>10</th>\n",
       "      <td>Hitachi_2024</td>\n",
       "      <td>0.336005</td>\n",
       "      <td>no</td>\n",
       "    </tr>\n",
       "    <tr>\n",
       "      <th>11</th>\n",
       "      <td>Cenovus_2023</td>\n",
       "      <td>0.445178</td>\n",
       "      <td>no</td>\n",
       "    </tr>\n",
       "    <tr>\n",
       "      <th>12</th>\n",
       "      <td>Peabody_2024</td>\n",
       "      <td>0.325956</td>\n",
       "      <td>no</td>\n",
       "    </tr>\n",
       "    <tr>\n",
       "      <th>13</th>\n",
       "      <td>adani_2022-23</td>\n",
       "      <td>0.376704</td>\n",
       "      <td>no</td>\n",
       "    </tr>\n",
       "    <tr>\n",
       "      <th>14</th>\n",
       "      <td>Varo_2023</td>\n",
       "      <td>0.322519</td>\n",
       "      <td>no</td>\n",
       "    </tr>\n",
       "    <tr>\n",
       "      <th>15</th>\n",
       "      <td>hbr_2022</td>\n",
       "      <td>0.342412</td>\n",
       "      <td>no</td>\n",
       "    </tr>\n",
       "    <tr>\n",
       "      <th>16</th>\n",
       "      <td>NRG_2023</td>\n",
       "      <td>0.458574</td>\n",
       "      <td>no</td>\n",
       "    </tr>\n",
       "    <tr>\n",
       "      <th>17</th>\n",
       "      <td>Cheniere_2023</td>\n",
       "      <td>0.429524</td>\n",
       "      <td>no</td>\n",
       "    </tr>\n",
       "    <tr>\n",
       "      <th>18</th>\n",
       "      <td>Capitalenergy_2021</td>\n",
       "      <td>0.367015</td>\n",
       "      <td>no</td>\n",
       "    </tr>\n",
       "  </tbody>\n",
       "</table>\n",
       "</div>"
      ],
      "text/plain": [
       "                report  net_action_score greenwashing\n",
       "0             NFE_2022          0.353198           no\n",
       "1            LGES_2023          0.496052           no\n",
       "2           VITOL_2023          0.390187           no\n",
       "3           Nofar_2023          0.319946           no\n",
       "4             ENN_2023          0.500000           no\n",
       "5          Gibson-2022          0.390071           no\n",
       "6            Gren_2023          0.253968          yes\n",
       "7           Chord_2023          0.365180           no\n",
       "8   Totalenergies_2024          0.293219          yes\n",
       "9   Constellation_2024          0.402439           no\n",
       "10        Hitachi_2024          0.336005           no\n",
       "11        Cenovus_2023          0.445178           no\n",
       "12        Peabody_2024          0.325956           no\n",
       "13       adani_2022-23          0.376704           no\n",
       "14           Varo_2023          0.322519           no\n",
       "15            hbr_2022          0.342412           no\n",
       "16            NRG_2023          0.458574           no\n",
       "17       Cheniere_2023          0.429524           no\n",
       "18  Capitalenergy_2021          0.367015           no"
      ]
     },
     "execution_count": 2,
     "metadata": {},
     "output_type": "execute_result"
    }
   ],
   "source": [
    "#open GW output/greenwashing_reports.csv\n",
    "gw = pd.read_csv(\"GW output/greenwashing_reports.csv\")\n",
    "gw"
   ]
  },
  {
   "cell_type": "code",
   "execution_count": 4,
   "metadata": {},
   "outputs": [
    {
     "name": "stdout",
     "output_type": "stream",
     "text": [
      "mean score:  0.37727092555709474\n",
      "standard deviation:  0.06625792211366308\n",
      "mean - 2 std deviation:  0.2447550813297686\n"
     ]
    }
   ],
   "source": [
    "#find the mean \n",
    "mean_score = gw[\"net_action_score\"].mean()\n",
    "print(\"mean score: \", mean_score)\n",
    "\n",
    "#find 2std deviation from the mean\n",
    "std_dev = gw[\"net_action_score\"].std()\n",
    "print(\"standard deviation: \", std_dev)\n",
    "\n",
    "print(\"mean - 2 std deviation: \", mean_score - 2*std_dev)"
   ]
  }
 ],
 "metadata": {
  "kernelspec": {
   "display_name": "Python 3",
   "language": "python",
   "name": "python3"
  },
  "language_info": {
   "codemirror_mode": {
    "name": "ipython",
    "version": 3
   },
   "file_extension": ".py",
   "mimetype": "text/x-python",
   "name": "python",
   "nbconvert_exporter": "python",
   "pygments_lexer": "ipython3",
   "version": "3.9.6"
  }
 },
 "nbformat": 4,
 "nbformat_minor": 2
}
