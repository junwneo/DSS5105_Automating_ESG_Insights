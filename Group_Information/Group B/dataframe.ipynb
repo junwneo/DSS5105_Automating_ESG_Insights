{
 "cells": [
  {
   "cell_type": "code",
   "execution_count": 1,
   "metadata": {},
   "outputs": [
    {
     "name": "stderr",
     "output_type": "stream",
     "text": [
      "/Users/shiyiwang/opt/anaconda3/lib/python3.9/site-packages/pandas/core/computation/expressions.py:21: UserWarning: Pandas requires version '2.8.4' or newer of 'numexpr' (version '2.8.3' currently installed).\n",
      "  from pandas.core.computation.check import NUMEXPR_INSTALLED\n",
      "/Users/shiyiwang/opt/anaconda3/lib/python3.9/site-packages/pandas/core/arrays/masked.py:60: UserWarning: Pandas requires version '1.3.6' or newer of 'bottleneck' (version '1.3.5' currently installed).\n",
      "  from pandas.core import (\n"
     ]
    }
   ],
   "source": [
    "\n",
    "import pandas as pd\n",
    "import glob\n",
    "\n"
   ]
  },
  {
   "cell_type": "code",
   "execution_count": 2,
   "metadata": {},
   "outputs": [],
   "source": [
    "def extract_company_name(filename):\n",
    "    return filename.split(\"ESG_Extracted-\")[-1].split(\"_\")[0]\n",
    "\n",
    "all_rows = []\n",
    "\n",
    "for file in glob.glob(\"ESG_Extracted-*.xlsx\"):\n",
    "    company = extract_company_name(file)\n",
    "    row = {\"Company\": company, \"G_value\": 0}\n",
    "    \n",
    "    # 处理E Sheet\n",
    "    try:\n",
    "        e_df = pd.read_excel(file, sheet_name=\"E\", usecols=[\"Keywords\", \"Value\"])\n",
    "        e_dict = e_df.groupby(\"Keywords\")[\"Value\"].last().to_dict()\n",
    "        row.update(e_dict)\n",
    "    except:\n",
    "        pass\n",
    "    \n",
    "    # 处理S Sheet\n",
    "    try:\n",
    "        s_df = pd.read_excel(file, sheet_name=\"S\", usecols=[\"Keywords\", \"Value\"])\n",
    "        s_dict = s_df.groupby(\"Keywords\")[\"Value\"].last().to_dict()\n",
    "        row.update(s_dict)\n",
    "    except:\n",
    "        pass\n",
    "    \n",
    "    # 处理G Sheet\n",
    "    try:\n",
    "        g_df = pd.read_excel(file, sheet_name=\"G\", usecols=[\"Value\"])\n",
    "        row[\"G_value\"] = g_df[\"Value\"].sum()\n",
    "    except:\n",
    "        pass\n",
    "    \n",
    "    all_rows.append(row)\n",
    "\n",
    "# 合并所有数据并填充缺失值为0\n",
    "final_df = pd.DataFrame(all_rows).fillna(0)\n",
    "\n",
    "# 按字母顺序排序列（公司名和G_value固定在前）\n",
    "cols = [\"Company\"] + [col for col in sorted(final_df.columns) if col not in [\"Company\", \"G_value\"]] + [\"G_value\"]\n",
    "final_df = final_df[cols]\n",
    "\n",
    "final_df.to_csv(\"consolidated_esg_single_row.csv\", index=False)"
   ]
  }
 ],
 "metadata": {
  "kernelspec": {
   "display_name": "base",
   "language": "python",
   "name": "python3"
  },
  "language_info": {
   "codemirror_mode": {
    "name": "ipython",
    "version": 3
   },
   "file_extension": ".py",
   "mimetype": "text/x-python",
   "name": "python",
   "nbconvert_exporter": "python",
   "pygments_lexer": "ipython3",
   "version": "3.9.19"
  }
 },
 "nbformat": 4,
 "nbformat_minor": 2
}
