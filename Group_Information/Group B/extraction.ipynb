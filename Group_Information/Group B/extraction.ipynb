{
 "cells": [
  {
   "cell_type": "code",
   "execution_count": 1,
   "metadata": {},
   "outputs": [
    {
     "name": "stderr",
     "output_type": "stream",
     "text": [
      "/Users/shiyiwang/opt/anaconda3/lib/python3.9/site-packages/pandas/core/computation/expressions.py:21: UserWarning: Pandas requires version '2.8.4' or newer of 'numexpr' (version '2.8.3' currently installed).\n",
      "  from pandas.core.computation.check import NUMEXPR_INSTALLED\n",
      "/Users/shiyiwang/opt/anaconda3/lib/python3.9/site-packages/pandas/core/arrays/masked.py:60: UserWarning: Pandas requires version '1.3.6' or newer of 'bottleneck' (version '1.3.5' currently installed).\n",
      "  from pandas.core import (\n"
     ]
    }
   ],
   "source": [
    "import pandas as pd\n",
    "import re\n",
    "from openpyxl import load_workbook"
   ]
  },
  {
   "cell_type": "code",
   "execution_count": 2,
   "metadata": {},
   "outputs": [],
   "source": [
    "# ================== 配置区域 ==================\n",
    "INPUT_FILE = \"VITOL_2023_all.xlsx\"\n",
    "OUTPUT_FILE = \"ESG_Extracted-VITOL_2023_all.xlsx\""
   ]
  },
  {
   "cell_type": "code",
   "execution_count": 3,
   "metadata": {},
   "outputs": [],
   "source": [
    "# 定义关键词及对应类别 (可自由修改)\n",
    "KEYWORD_CONFIG = {\n",
    "    \"E\": [\n",
    "        [\"scope1\"],\n",
    "        [\"scope1\",\"GHG\"],\n",
    "        [\"scope2\"],\n",
    "        [\"scope2\",\"total\"],\n",
    "        [\"scope3\"],\n",
    "        [\"electricity\",\"consumption\"],\n",
    "        [\"ArithmeticError\",\"consumption\"],\n",
    "        [\"water\",\"consumption\"],\n",
    "        [\"energy\",\"consumption\"],\n",
    "        [\"total\",\"waste\"],\n",
    "        [\"waste\",\"recycled\"],\n",
    "        [\"solar\"],\n",
    "        [\"wind\"],\n",
    "        [\"hydro\"],\n",
    "        [\"bioenergy\"],\n",
    "        [\"geothermal\"],\n",
    "        [\"nuclear\"],\n",
    "        [\"coal\"],\n",
    "        [\"oil\"],\n",
    "        [\"gas\"]\n",
    "    ],\n",
    "    \"S\": [\n",
    "        [\"genderdiversity\", \"women\"],\n",
    "        [\"management\", \"women\"],\n",
    "        [\"training\", \"hours\"],\n",
    "        [\"male\"],\n",
    "        [\"female\"],\n",
    "        [\"fatal\"],\n",
    "        [\"jobs\"],\n",
    "        [\"training\", \"hours\"],\n",
    "        [\"man\"],\n",
    "        [\"women\"],\n",
    "        [\"turnover\"]    \n",
    "        ],\n",
    "    \"G\": [\n",
    "        [\"anti\",\"corruption\"],\n",
    "        [\"strategy\"],\n",
    "        [\"beneﬁtsinsurance\"],\n",
    "        [\"board\"],\n",
    "        [\"benefit\"],\n",
    "        [\"board\",\"composition\"],\n",
    "        [\"audit\"],\n",
    "        [\"riskassessment\"],\n",
    "        [\"compliance\"],\n",
    "        [\"ethics\"],\n",
    "        [\"corruption\"],\n",
    "        [\"bribery\"],\n",
    "        [\"fraud\"],\n",
    "        [\"whistleblower\"],\n",
    "        [\"conflict\", \"interest\"],\n",
    "        [\"transparency\"],\n",
    "        [\"accountability\"],\n",
    "        [\"independence\"],\n",
    "        [\"inclusivity\"],\n",
    "        [\"independence\"],\n",
    "        [\"conflict\", \"interest\"],\n",
    "        [\"transparency\"],\n",
    "        [\"accountability\"],\n",
    "        [\"inclusivity\"]\n",
    "    ]\n",
    "}"
   ]
  },
  {
   "cell_type": "code",
   "execution_count": 4,
   "metadata": {},
   "outputs": [],
   "source": [
    "# ==============================================\n",
    "\n",
    "def is_number(value):\n",
    "    \"\"\"支持科学计数法、百分数、货币符号\"\"\"\n",
    "    try:\n",
    "        cleaned = re.sub(r'[^\\d.eE-]', '', str(value))\n",
    "        return bool(float(cleaned))\n",
    "    except:\n",
    "        return False\n",
    "\n",
    "def clean_text(text):\n",
    "    \"\"\"保留关键符号的清洗逻辑\"\"\"\n",
    "    return re.sub(r'[^\\w\\s_.%-]', ' ', str(text).lower()).strip()\n",
    "\n",
    "def process_sheet(sheet):\n",
    "    data = []\n",
    "    for row in sheet.iter_rows():\n",
    "        for cell in row:\n",
    "            if cell.value is None:\n",
    "                continue\n",
    "            \n",
    "            # 清洗文本\n",
    "            original = str(cell.value)\n",
    "            cleaned = clean_text(original)\n",
    "            \n",
    "            # 遍历所有关键词配置\n",
    "            for category, groups in KEYWORD_CONFIG.items():\n",
    "                for keywords in groups:\n",
    "                    # ===== G类特殊处理 =====\n",
    "                    if category == \"G\":\n",
    "                        # 使用按空格拆分后的匹配（支持子字符串匹配）\n",
    "                        matched_keywords = [kw for kw in keywords if kw in cleaned.split()]\n",
    "                        if not matched_keywords:\n",
    "                            continue\n",
    "                        data.append({\n",
    "                            \"Category\": category,\n",
    "                            \"Keywords\": \" & \".join(keywords),\n",
    "                            \"Value\": len(matched_keywords),  # 记录匹配到的关键字个数\n",
    "                            \"Source\": f\"{sheet.title}!{cell.coordinate}\",\n",
    "                            \"Matched\": \" | \".join(matched_keywords)\n",
    "                        })\n",
    "                        # 一旦匹配到当前G类关键词组，不必再检查同一单元格的其他组\n",
    "                        break\n",
    "                    \n",
    "                    # ===== E/S类处理 =====\n",
    "                    else:\n",
    "                        # 检查当前单元格的清洗文本是否包含所有关键词\n",
    "                        if all(keyword in cleaned for keyword in keywords):\n",
    "                            col_idx = cell.column\n",
    "                            row_idx = cell.row\n",
    "                            found_value = None\n",
    "                            \n",
    "                            # 向右扫描最多 3 列，避免因单位等干扰数据提取\n",
    "                            for offset in range(1, 4):\n",
    "                                right_cell = sheet.cell(row=row_idx, column=col_idx + offset)\n",
    "                                if right_cell.value is None:\n",
    "                                    continue\n",
    "                                \n",
    "                                if is_number(right_cell.value):\n",
    "                                    # 只保留数字、科学计数法或负号\n",
    "                                    value_str = re.sub(r'[^\\d.e-]', '', str(right_cell.value))\n",
    "                                    try:\n",
    "                                        value = float(value_str)\n",
    "                                    except:\n",
    "                                        value = None\n",
    "                                    if value is not None:\n",
    "                                        found_value = value\n",
    "                                        break\n",
    "                            \n",
    "                            if found_value is not None:\n",
    "                                data.append({\n",
    "                                    \"Category\": category,\n",
    "                                    \"Keywords\": \" & \".join(keywords),\n",
    "                                    \"Value\": found_value,\n",
    "                                    \"Source\": f\"{sheet.title}!{cell.coordinate}\"\n",
    "                                })\n",
    "                            # 一旦匹配到当前关键词组，跳出当前组循环\n",
    "                            break\n",
    "    return data\n"
   ]
  },
  {
   "cell_type": "code",
   "execution_count": 5,
   "metadata": {},
   "outputs": [
    {
     "name": "stdout",
     "output_type": "stream",
     "text": [
      "处理 [Social\n",
      "Governanc_e\n",
      "Appendices_2] → 提取到 0 条数据\n",
      "处理 [ESGperformancemetrics_9] → 提取到 4 条数据\n"
     ]
    }
   ],
   "source": [
    "# 主程序\n",
    "all_data = []\n",
    "wb = load_workbook(INPUT_FILE)\n",
    "\n",
    "for sheet_name in wb.sheetnames:\n",
    "    sheet = wb[sheet_name]\n",
    "    sheet_data = process_sheet(sheet)\n",
    "    print(f\"处理 [{sheet_name}] → 提取到 {len(sheet_data)} 条数据\")\n",
    "    all_data.extend(sheet_data)\n"
   ]
  },
  {
   "cell_type": "code",
   "execution_count": 6,
   "metadata": {},
   "outputs": [
    {
     "name": "stdout",
     "output_type": "stream",
     "text": [
      "处理完成！G类数据示例：\n",
      "Empty DataFrame\n",
      "Columns: [Category, Keywords, Value, Source]\n",
      "Index: []\n"
     ]
    },
    {
     "name": "stderr",
     "output_type": "stream",
     "text": [
      "/var/folders/rz/jy82p4_54pld94ms64nt5whh0000gn/T/ipykernel_35254/2755826252.py:12: UserWarning: Pandas requires version '3.0.5' or newer of 'xlsxwriter' (version '3.0.3' currently installed).\n",
      "  with pd.ExcelWriter(OUTPUT_FILE) as writer:\n"
     ]
    }
   ],
   "source": [
    "# 构建DataFrame并去重\n",
    "if all_data:\n",
    "    df = pd.DataFrame(all_data)\n",
    "    # 去重策略：G类保留最高分，E/S类保留首次出现\n",
    "    df = df.sort_values([\"Category\", \"Value\"], ascending=[True, False])\n",
    "    df = df.drop_duplicates(\n",
    "        subset=[\"Category\", \"Keywords\"], \n",
    "        keep=\"first\"\n",
    "    )\n",
    "    \n",
    "    # 分类输出\n",
    "    with pd.ExcelWriter(OUTPUT_FILE) as writer:\n",
    "        for category in [\"E\", \"S\", \"G\"]:\n",
    "            df_cat = df[df[\"Category\"] == category]\n",
    "            df_cat.to_excel(writer, sheet_name=category, index=False)\n",
    "    \n",
    "    print(f\"处理完成！G类数据示例：\")\n",
    "    print(df[df[\"Category\"] == \"G\"].head())\n",
    "else:\n",
    "    print(\"警告：未提取到任何数据！\")"
   ]
  },
  {
   "cell_type": "code",
   "execution_count": 7,
   "metadata": {},
   "outputs": [],
   "source": [
    "# 分类存储\n",
    "datasets = {\n",
    "    cat: df[df['Category'] == cat][[\"Keywords\", \"Value\", \"Source\"]]\n",
    "    for cat in ['E', 'S', 'G']\n",
    "}"
   ]
  },
  {
   "cell_type": "code",
   "execution_count": 8,
   "metadata": {},
   "outputs": [
    {
     "name": "stdout",
     "output_type": "stream",
     "text": [
      "\n",
      "==================================================\n",
      "处理完成！共提取 3 条有效数据\n",
      "结果文件路径: ESG_Extracted-VITOL_2023_all.xlsx\n",
      "==================================================\n"
     ]
    },
    {
     "name": "stderr",
     "output_type": "stream",
     "text": [
      "/var/folders/rz/jy82p4_54pld94ms64nt5whh0000gn/T/ipykernel_35254/1673592645.py:2: UserWarning: Pandas requires version '3.0.5' or newer of 'xlsxwriter' (version '3.0.3' currently installed).\n",
      "  with pd.ExcelWriter(OUTPUT_FILE) as writer:\n"
     ]
    }
   ],
   "source": [
    "# 输出到Excel\n",
    "with pd.ExcelWriter(OUTPUT_FILE) as writer:\n",
    "    for category in ['E', 'S', 'G']:\n",
    "        if category in datasets and not datasets[category].empty:\n",
    "            datasets[category].to_excel(writer, sheet_name=category, index=False)\n",
    "        else:\n",
    "            # 创建空工作表占位\n",
    "            pd.DataFrame({'提示': [f'未找到{category}类数据']}).to_excel(\n",
    "                writer, \n",
    "                sheet_name=category, \n",
    "                index=False\n",
    "            )\n",
    "\n",
    "print(\"\\n\" + \"=\"*50)\n",
    "print(f\"处理完成！共提取 {len(df)} 条有效数据\")\n",
    "print(f\"结果文件路径: {OUTPUT_FILE}\")\n",
    "print(\"=\"*50)"
   ]
  }
 ],
 "metadata": {
  "kernelspec": {
   "display_name": "base",
   "language": "python",
   "name": "python3"
  },
  "language_info": {
   "codemirror_mode": {
    "name": "ipython",
    "version": 3
   },
   "file_extension": ".py",
   "mimetype": "text/x-python",
   "name": "python",
   "nbconvert_exporter": "python",
   "pygments_lexer": "ipython3",
   "version": "3.9.19"
  }
 },
 "nbformat": 4,
 "nbformat_minor": 2
}
